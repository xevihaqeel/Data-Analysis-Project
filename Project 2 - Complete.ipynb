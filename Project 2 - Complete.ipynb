{
 "cells": [
  {
   "cell_type": "code",
   "execution_count": 19,
   "id": "fbf1adab",
   "metadata": {},
   "outputs": [],
   "source": [
    "import pandas as pd"
   ]
  },
  {
   "cell_type": "code",
   "execution_count": null,
   "id": "ad36396d",
   "metadata": {},
   "outputs": [],
   "source": []
  },
  {
   "cell_type": "code",
   "execution_count": null,
   "id": "ad6a1efa",
   "metadata": {},
   "outputs": [],
   "source": []
  },
  {
   "cell_type": "code",
   "execution_count": 20,
   "id": "5130e05e",
   "metadata": {},
   "outputs": [
    {
     "name": "stdout",
     "output_type": "stream",
     "text": [
      "<class 'pandas.core.frame.DataFrame'>\n",
      "RangeIndex: 4545007 entries, 0 to 4545006\n",
      "Data columns (total 4 columns):\n",
      " #   Column             Non-Null Count    Dtype  \n",
      "---  ------             --------------    -----  \n",
      " 0   order_id           4545007 non-null  int64  \n",
      " 1   product_id         4545007 non-null  int64  \n",
      " 2   add_to_cart_order  4544171 non-null  float64\n",
      " 3   reordered          4545007 non-null  int64  \n",
      "dtypes: float64(1), int64(3)\n",
      "memory usage: 138.7 MB\n"
     ]
    }
   ],
   "source": [
    "df_o_products = pd.read_csv('/datasets/order_products.csv',sep=';')\n",
    "df_o_products.info(show_counts=True)"
   ]
  },
  {
   "cell_type": "code",
   "execution_count": 10,
   "id": "d8370c05",
   "metadata": {},
   "outputs": [],
   "source": []
  },
  {
   "cell_type": "code",
   "execution_count": 23,
   "id": "6fc81694",
   "metadata": {},
   "outputs": [
    {
     "data": {
      "text/html": [
       "<div>\n",
       "<style scoped>\n",
       "    .dataframe tbody tr th:only-of-type {\n",
       "        vertical-align: middle;\n",
       "    }\n",
       "\n",
       "    .dataframe tbody tr th {\n",
       "        vertical-align: top;\n",
       "    }\n",
       "\n",
       "    .dataframe thead th {\n",
       "        text-align: right;\n",
       "    }\n",
       "</style>\n",
       "<table border=\"1\" class=\"dataframe\">\n",
       "  <thead>\n",
       "    <tr style=\"text-align: right;\">\n",
       "      <th></th>\n",
       "      <th>order_id</th>\n",
       "      <th>user_id</th>\n",
       "      <th>order_number</th>\n",
       "      <th>order_dow</th>\n",
       "      <th>order_hour_of_day</th>\n",
       "      <th>days_since_prior_order</th>\n",
       "    </tr>\n",
       "  </thead>\n",
       "  <tbody>\n",
       "    <tr>\n",
       "      <th>0</th>\n",
       "      <td>1515936</td>\n",
       "      <td>183418</td>\n",
       "      <td>11</td>\n",
       "      <td>6</td>\n",
       "      <td>13</td>\n",
       "      <td>30.0</td>\n",
       "    </tr>\n",
       "    <tr>\n",
       "      <th>1</th>\n",
       "      <td>1690866</td>\n",
       "      <td>163593</td>\n",
       "      <td>5</td>\n",
       "      <td>5</td>\n",
       "      <td>12</td>\n",
       "      <td>9.0</td>\n",
       "    </tr>\n",
       "    <tr>\n",
       "      <th>2</th>\n",
       "      <td>1454967</td>\n",
       "      <td>39980</td>\n",
       "      <td>4</td>\n",
       "      <td>5</td>\n",
       "      <td>19</td>\n",
       "      <td>2.0</td>\n",
       "    </tr>\n",
       "    <tr>\n",
       "      <th>3</th>\n",
       "      <td>1768857</td>\n",
       "      <td>82516</td>\n",
       "      <td>56</td>\n",
       "      <td>0</td>\n",
       "      <td>20</td>\n",
       "      <td>10.0</td>\n",
       "    </tr>\n",
       "    <tr>\n",
       "      <th>4</th>\n",
       "      <td>3007858</td>\n",
       "      <td>196724</td>\n",
       "      <td>2</td>\n",
       "      <td>4</td>\n",
       "      <td>12</td>\n",
       "      <td>17.0</td>\n",
       "    </tr>\n",
       "    <tr>\n",
       "      <th>...</th>\n",
       "      <td>...</td>\n",
       "      <td>...</td>\n",
       "      <td>...</td>\n",
       "      <td>...</td>\n",
       "      <td>...</td>\n",
       "      <td>...</td>\n",
       "    </tr>\n",
       "    <tr>\n",
       "      <th>478962</th>\n",
       "      <td>3210681</td>\n",
       "      <td>5617</td>\n",
       "      <td>5</td>\n",
       "      <td>1</td>\n",
       "      <td>14</td>\n",
       "      <td>7.0</td>\n",
       "    </tr>\n",
       "    <tr>\n",
       "      <th>478963</th>\n",
       "      <td>3270802</td>\n",
       "      <td>112087</td>\n",
       "      <td>2</td>\n",
       "      <td>3</td>\n",
       "      <td>13</td>\n",
       "      <td>6.0</td>\n",
       "    </tr>\n",
       "    <tr>\n",
       "      <th>478964</th>\n",
       "      <td>885349</td>\n",
       "      <td>82944</td>\n",
       "      <td>16</td>\n",
       "      <td>2</td>\n",
       "      <td>11</td>\n",
       "      <td>6.0</td>\n",
       "    </tr>\n",
       "    <tr>\n",
       "      <th>478965</th>\n",
       "      <td>216274</td>\n",
       "      <td>4391</td>\n",
       "      <td>3</td>\n",
       "      <td>3</td>\n",
       "      <td>8</td>\n",
       "      <td>8.0</td>\n",
       "    </tr>\n",
       "    <tr>\n",
       "      <th>478966</th>\n",
       "      <td>2071924</td>\n",
       "      <td>1730</td>\n",
       "      <td>18</td>\n",
       "      <td>1</td>\n",
       "      <td>14</td>\n",
       "      <td>15.0</td>\n",
       "    </tr>\n",
       "  </tbody>\n",
       "</table>\n",
       "<p>478967 rows × 6 columns</p>\n",
       "</div>"
      ],
      "text/plain": [
       "        order_id  user_id  order_number  order_dow  order_hour_of_day  \\\n",
       "0        1515936   183418            11          6                 13   \n",
       "1        1690866   163593             5          5                 12   \n",
       "2        1454967    39980             4          5                 19   \n",
       "3        1768857    82516            56          0                 20   \n",
       "4        3007858   196724             2          4                 12   \n",
       "...          ...      ...           ...        ...                ...   \n",
       "478962   3210681     5617             5          1                 14   \n",
       "478963   3270802   112087             2          3                 13   \n",
       "478964    885349    82944            16          2                 11   \n",
       "478965    216274     4391             3          3                  8   \n",
       "478966   2071924     1730            18          1                 14   \n",
       "\n",
       "        days_since_prior_order  \n",
       "0                         30.0  \n",
       "1                          9.0  \n",
       "2                          2.0  \n",
       "3                         10.0  \n",
       "4                         17.0  \n",
       "...                        ...  \n",
       "478962                     7.0  \n",
       "478963                     6.0  \n",
       "478964                     6.0  \n",
       "478965                     8.0  \n",
       "478966                    15.0  \n",
       "\n",
       "[478967 rows x 6 columns]"
      ]
     },
     "metadata": {},
     "output_type": "display_data"
    }
   ],
   "source": [
    "df_orders = pd.read_csv('/datasets/instacart_orders.csv',sep=';')\n",
    "display(df_orders)"
   ]
  },
  {
   "cell_type": "code",
   "execution_count": 32,
   "id": "59e2090f",
   "metadata": {},
   "outputs": [
    {
     "data": {
      "text/html": [
       "<div>\n",
       "<style scoped>\n",
       "    .dataframe tbody tr th:only-of-type {\n",
       "        vertical-align: middle;\n",
       "    }\n",
       "\n",
       "    .dataframe tbody tr th {\n",
       "        vertical-align: top;\n",
       "    }\n",
       "\n",
       "    .dataframe thead th {\n",
       "        text-align: right;\n",
       "    }\n",
       "</style>\n",
       "<table border=\"1\" class=\"dataframe\">\n",
       "  <thead>\n",
       "    <tr style=\"text-align: right;\">\n",
       "      <th></th>\n",
       "      <th>product_id</th>\n",
       "      <th>product_name</th>\n",
       "      <th>aisle_id</th>\n",
       "      <th>department_id</th>\n",
       "    </tr>\n",
       "  </thead>\n",
       "  <tbody>\n",
       "    <tr>\n",
       "      <th>0</th>\n",
       "      <td>1</td>\n",
       "      <td>Chocolate Sandwich Cookies</td>\n",
       "      <td>61</td>\n",
       "      <td>19</td>\n",
       "    </tr>\n",
       "    <tr>\n",
       "      <th>1</th>\n",
       "      <td>2</td>\n",
       "      <td>All-Seasons Salt</td>\n",
       "      <td>104</td>\n",
       "      <td>13</td>\n",
       "    </tr>\n",
       "    <tr>\n",
       "      <th>2</th>\n",
       "      <td>3</td>\n",
       "      <td>Robust Golden Unsweetened Oolong Tea</td>\n",
       "      <td>94</td>\n",
       "      <td>7</td>\n",
       "    </tr>\n",
       "    <tr>\n",
       "      <th>3</th>\n",
       "      <td>4</td>\n",
       "      <td>Smart Ones Classic Favorites Mini Rigatoni Wit...</td>\n",
       "      <td>38</td>\n",
       "      <td>1</td>\n",
       "    </tr>\n",
       "    <tr>\n",
       "      <th>4</th>\n",
       "      <td>5</td>\n",
       "      <td>Green Chile Anytime Sauce</td>\n",
       "      <td>5</td>\n",
       "      <td>13</td>\n",
       "    </tr>\n",
       "    <tr>\n",
       "      <th>...</th>\n",
       "      <td>...</td>\n",
       "      <td>...</td>\n",
       "      <td>...</td>\n",
       "      <td>...</td>\n",
       "    </tr>\n",
       "    <tr>\n",
       "      <th>49689</th>\n",
       "      <td>49690</td>\n",
       "      <td>HIGH PERFORMANCE ENERGY DRINK</td>\n",
       "      <td>64</td>\n",
       "      <td>7</td>\n",
       "    </tr>\n",
       "    <tr>\n",
       "      <th>49690</th>\n",
       "      <td>49691</td>\n",
       "      <td>ORIGINAL PANCAKE &amp; WAFFLE MIX</td>\n",
       "      <td>130</td>\n",
       "      <td>14</td>\n",
       "    </tr>\n",
       "    <tr>\n",
       "      <th>49691</th>\n",
       "      <td>49692</td>\n",
       "      <td>ORGANIC INSTANT OATMEAL LIGHT MAPLE BROWN SUGAR</td>\n",
       "      <td>130</td>\n",
       "      <td>14</td>\n",
       "    </tr>\n",
       "    <tr>\n",
       "      <th>49692</th>\n",
       "      <td>49693</td>\n",
       "      <td>SPRING WATER BODY WASH</td>\n",
       "      <td>127</td>\n",
       "      <td>11</td>\n",
       "    </tr>\n",
       "    <tr>\n",
       "      <th>49693</th>\n",
       "      <td>49694</td>\n",
       "      <td>BURRITO- STEAK &amp; CHEESE</td>\n",
       "      <td>38</td>\n",
       "      <td>1</td>\n",
       "    </tr>\n",
       "  </tbody>\n",
       "</table>\n",
       "<p>49694 rows × 4 columns</p>\n",
       "</div>"
      ],
      "text/plain": [
       "       product_id                                       product_name  \\\n",
       "0               1                         Chocolate Sandwich Cookies   \n",
       "1               2                                   All-Seasons Salt   \n",
       "2               3               Robust Golden Unsweetened Oolong Tea   \n",
       "3               4  Smart Ones Classic Favorites Mini Rigatoni Wit...   \n",
       "4               5                          Green Chile Anytime Sauce   \n",
       "...           ...                                                ...   \n",
       "49689       49690                      HIGH PERFORMANCE ENERGY DRINK   \n",
       "49690       49691                      ORIGINAL PANCAKE & WAFFLE MIX   \n",
       "49691       49692    ORGANIC INSTANT OATMEAL LIGHT MAPLE BROWN SUGAR   \n",
       "49692       49693                             SPRING WATER BODY WASH   \n",
       "49693       49694                            BURRITO- STEAK & CHEESE   \n",
       "\n",
       "       aisle_id  department_id  \n",
       "0            61             19  \n",
       "1           104             13  \n",
       "2            94              7  \n",
       "3            38              1  \n",
       "4             5             13  \n",
       "...         ...            ...  \n",
       "49689        64              7  \n",
       "49690       130             14  \n",
       "49691       130             14  \n",
       "49692       127             11  \n",
       "49693        38              1  \n",
       "\n",
       "[49694 rows x 4 columns]"
      ]
     },
     "metadata": {},
     "output_type": "display_data"
    }
   ],
   "source": [
    "df_products = pd.read_csv('/datasets/products.csv',sep=';')\n",
    "display(df_products)"
   ]
  },
  {
   "cell_type": "markdown",
   "id": "07357848-dc64-4156-9cc3-01ff4365226d",
   "metadata": {},
   "source": [
    "## Find and remove duplicate values (and describe why you make your choices)"
   ]
  },
  {
   "cell_type": "markdown",
   "id": "f179f0a9",
   "metadata": {},
   "source": [
    "### `orders` data frame"
   ]
  },
  {
   "cell_type": "code",
   "execution_count": 25,
   "id": "b99297a5-405a-463d-8535-9adc3da4ad74",
   "metadata": {},
   "outputs": [
    {
     "name": "stdout",
     "output_type": "stream",
     "text": [
      "        order_id  user_id  order_number  order_dow  order_hour_of_day  \\\n",
      "145574    794638    50898            24          3                  2   \n",
      "223105   2160484   107525            16          3                  2   \n",
      "230807   1918001   188546            14          3                  2   \n",
      "266232   1782114   106752             1          3                  2   \n",
      "273805   1112182   202304            84          3                  2   \n",
      "284038   2845099    31189            11          3                  2   \n",
      "311713   1021560    53767             3          3                  2   \n",
      "321100    408114    68324             4          3                  2   \n",
      "323900   1919531   191501            32          3                  2   \n",
      "345917   2232988    82565             1          3                  2   \n",
      "371905    391768    57671            19          3                  2   \n",
      "394347    467134    63189            21          3                  2   \n",
      "411408   1286742   183220            48          3                  2   \n",
      "415163   2282673    86751            49          3                  2   \n",
      "441599   2125197    14050            48          3                  2   \n",
      "\n",
      "        days_since_prior_order  \n",
      "145574                     2.0  \n",
      "223105                    30.0  \n",
      "230807                    16.0  \n",
      "266232                     NaN  \n",
      "273805                     6.0  \n",
      "284038                     7.0  \n",
      "311713                     9.0  \n",
      "321100                    18.0  \n",
      "323900                     7.0  \n",
      "345917                     NaN  \n",
      "371905                    10.0  \n",
      "394347                     2.0  \n",
      "411408                     4.0  \n",
      "415163                     2.0  \n",
      "441599                     3.0  \n"
     ]
    }
   ],
   "source": [
    "\n",
    "# Check for duplicated orders\n",
    "dupe_orders = df_orders[df_orders.duplicated()]\n",
    "print(dupe_orders)"
   ]
  },
  {
   "cell_type": "code",
   "execution_count": 26,
   "id": "0d44de5d",
   "metadata": {},
   "outputs": [
    {
     "data": {
      "text/html": [
       "<div>\n",
       "<style scoped>\n",
       "    .dataframe tbody tr th:only-of-type {\n",
       "        vertical-align: middle;\n",
       "    }\n",
       "\n",
       "    .dataframe tbody tr th {\n",
       "        vertical-align: top;\n",
       "    }\n",
       "\n",
       "    .dataframe thead th {\n",
       "        text-align: right;\n",
       "    }\n",
       "</style>\n",
       "<table border=\"1\" class=\"dataframe\">\n",
       "  <thead>\n",
       "    <tr style=\"text-align: right;\">\n",
       "      <th></th>\n",
       "      <th>order_id</th>\n",
       "      <th>user_id</th>\n",
       "      <th>order_number</th>\n",
       "      <th>order_dow</th>\n",
       "      <th>order_hour_of_day</th>\n",
       "      <th>days_since_prior_order</th>\n",
       "    </tr>\n",
       "  </thead>\n",
       "  <tbody>\n",
       "    <tr>\n",
       "      <th>4838</th>\n",
       "      <td>2766110</td>\n",
       "      <td>162084</td>\n",
       "      <td>41</td>\n",
       "      <td>3</td>\n",
       "      <td>2</td>\n",
       "      <td>16.0</td>\n",
       "    </tr>\n",
       "    <tr>\n",
       "      <th>5156</th>\n",
       "      <td>2190225</td>\n",
       "      <td>138285</td>\n",
       "      <td>18</td>\n",
       "      <td>3</td>\n",
       "      <td>2</td>\n",
       "      <td>11.0</td>\n",
       "    </tr>\n",
       "    <tr>\n",
       "      <th>15506</th>\n",
       "      <td>553049</td>\n",
       "      <td>58599</td>\n",
       "      <td>13</td>\n",
       "      <td>3</td>\n",
       "      <td>2</td>\n",
       "      <td>7.0</td>\n",
       "    </tr>\n",
       "    <tr>\n",
       "      <th>18420</th>\n",
       "      <td>382357</td>\n",
       "      <td>120200</td>\n",
       "      <td>19</td>\n",
       "      <td>3</td>\n",
       "      <td>2</td>\n",
       "      <td>11.0</td>\n",
       "    </tr>\n",
       "    <tr>\n",
       "      <th>24691</th>\n",
       "      <td>690242</td>\n",
       "      <td>77357</td>\n",
       "      <td>2</td>\n",
       "      <td>3</td>\n",
       "      <td>2</td>\n",
       "      <td>9.0</td>\n",
       "    </tr>\n",
       "    <tr>\n",
       "      <th>...</th>\n",
       "      <td>...</td>\n",
       "      <td>...</td>\n",
       "      <td>...</td>\n",
       "      <td>...</td>\n",
       "      <td>...</td>\n",
       "      <td>...</td>\n",
       "    </tr>\n",
       "    <tr>\n",
       "      <th>457013</th>\n",
       "      <td>3384021</td>\n",
       "      <td>14881</td>\n",
       "      <td>6</td>\n",
       "      <td>3</td>\n",
       "      <td>2</td>\n",
       "      <td>30.0</td>\n",
       "    </tr>\n",
       "    <tr>\n",
       "      <th>458816</th>\n",
       "      <td>910166</td>\n",
       "      <td>164782</td>\n",
       "      <td>18</td>\n",
       "      <td>3</td>\n",
       "      <td>2</td>\n",
       "      <td>4.0</td>\n",
       "    </tr>\n",
       "    <tr>\n",
       "      <th>459635</th>\n",
       "      <td>1680532</td>\n",
       "      <td>106435</td>\n",
       "      <td>6</td>\n",
       "      <td>3</td>\n",
       "      <td>2</td>\n",
       "      <td>21.0</td>\n",
       "    </tr>\n",
       "    <tr>\n",
       "      <th>468324</th>\n",
       "      <td>222962</td>\n",
       "      <td>54979</td>\n",
       "      <td>59</td>\n",
       "      <td>3</td>\n",
       "      <td>2</td>\n",
       "      <td>3.0</td>\n",
       "    </tr>\n",
       "    <tr>\n",
       "      <th>477526</th>\n",
       "      <td>2592344</td>\n",
       "      <td>46860</td>\n",
       "      <td>38</td>\n",
       "      <td>3</td>\n",
       "      <td>2</td>\n",
       "      <td>3.0</td>\n",
       "    </tr>\n",
       "  </tbody>\n",
       "</table>\n",
       "<p>121 rows × 6 columns</p>\n",
       "</div>"
      ],
      "text/plain": [
       "        order_id  user_id  order_number  order_dow  order_hour_of_day  \\\n",
       "4838     2766110   162084            41          3                  2   \n",
       "5156     2190225   138285            18          3                  2   \n",
       "15506     553049    58599            13          3                  2   \n",
       "18420     382357   120200            19          3                  2   \n",
       "24691     690242    77357             2          3                  2   \n",
       "...          ...      ...           ...        ...                ...   \n",
       "457013   3384021    14881             6          3                  2   \n",
       "458816    910166   164782            18          3                  2   \n",
       "459635   1680532   106435             6          3                  2   \n",
       "468324    222962    54979            59          3                  2   \n",
       "477526   2592344    46860            38          3                  2   \n",
       "\n",
       "        days_since_prior_order  \n",
       "4838                      16.0  \n",
       "5156                      11.0  \n",
       "15506                      7.0  \n",
       "18420                     11.0  \n",
       "24691                      9.0  \n",
       "...                        ...  \n",
       "457013                    30.0  \n",
       "458816                     4.0  \n",
       "459635                    21.0  \n",
       "468324                     3.0  \n",
       "477526                     3.0  \n",
       "\n",
       "[121 rows x 6 columns]"
      ]
     },
     "metadata": {},
     "output_type": "display_data"
    }
   ],
   "source": [
    "# Check for all orders placed Wednesday at 2:00 AM\n",
    "'''\n",
    "when looking at the table, it seems as though the time is formatted in military time. \n",
    "When looking at the 'order_dow' it seems as though they're numbered from 0-6. \n",
    "7 Indices for 7 days of the week starting with Sunday as 0 \n",
    "\n",
    "'''\n",
    "wed_2 = df_orders[(df_orders['order_dow'] == 3) & (df_orders['order_hour_of_day'] == 2)]\n",
    "display(wed_2)"
   ]
  },
  {
   "cell_type": "code",
   "execution_count": 27,
   "id": "480563c7",
   "metadata": {},
   "outputs": [],
   "source": [
    "# Remove duplicate orders\n",
    "df_orders = df_orders.drop_duplicates()\n"
   ]
  },
  {
   "cell_type": "code",
   "execution_count": 28,
   "id": "0b2396a2",
   "metadata": {},
   "outputs": [
    {
     "name": "stdout",
     "output_type": "stream",
     "text": [
      "Empty DataFrame\n",
      "Columns: [order_id, user_id, order_number, order_dow, order_hour_of_day, days_since_prior_order]\n",
      "Index: []\n"
     ]
    }
   ],
   "source": [
    "# Double check for duplicate rows\n",
    "dupe_orders = df_orders[df_orders.duplicated()]\n",
    "print(dupe_orders)"
   ]
  },
  {
   "cell_type": "code",
   "execution_count": 29,
   "id": "f6113ef1",
   "metadata": {},
   "outputs": [
    {
     "name": "stdout",
     "output_type": "stream",
     "text": [
      "Empty DataFrame\n",
      "Columns: [order_id, user_id, order_number, order_dow, order_hour_of_day, days_since_prior_order]\n",
      "Index: []\n"
     ]
    }
   ],
   "source": [
    "# Double check for duplicate order IDs only\n",
    "dupe_ids = df_orders[df_orders['order_id'].duplicated()]\n",
    "print(dupe_ids)"
   ]
  },
  {
   "cell_type": "markdown",
   "id": "5e8905ae",
   "metadata": {},
   "source": []
  },
  {
   "cell_type": "markdown",
   "id": "45e6bc46",
   "metadata": {},
   "source": [
    "### `products` data frame"
   ]
  },
  {
   "cell_type": "code",
   "execution_count": 33,
   "id": "5f526b5b-8175-46fa-a0fd-441767d50e64",
   "metadata": {},
   "outputs": [
    {
     "name": "stdout",
     "output_type": "stream",
     "text": [
      "0        False\n",
      "1        False\n",
      "2        False\n",
      "3        False\n",
      "4        False\n",
      "         ...  \n",
      "49689    False\n",
      "49690    False\n",
      "49691    False\n",
      "49692    False\n",
      "49693    False\n",
      "Length: 49694, dtype: bool\n"
     ]
    }
   ],
   "source": [
    "# Check for fully duplicate rows\n",
    "duped_products = df_products.duplicated()\n",
    "print(duped_products)"
   ]
  },
  {
   "cell_type": "code",
   "execution_count": 34,
   "id": "88daa4f4",
   "metadata": {},
   "outputs": [
    {
     "name": "stdout",
     "output_type": "stream",
     "text": [
      "0        False\n",
      "1        False\n",
      "2        False\n",
      "3        False\n",
      "4        False\n",
      "         ...  \n",
      "49689    False\n",
      "49690    False\n",
      "49691    False\n",
      "49692    False\n",
      "49693    False\n",
      "Name: product_id, Length: 49694, dtype: bool\n"
     ]
    }
   ],
   "source": [
    "# Check for just duplicate product IDs\n",
    "duped_product_ids = df_products['product_id'].duplicated()\n",
    "print(duped_product_ids)"
   ]
  },
  {
   "cell_type": "code",
   "execution_count": 35,
   "id": "c773f0bf",
   "metadata": {},
   "outputs": [
    {
     "name": "stdout",
     "output_type": "stream",
     "text": [
      "0        False\n",
      "1        False\n",
      "2        False\n",
      "3        False\n",
      "4        False\n",
      "         ...  \n",
      "49689    False\n",
      "49690    False\n",
      "49691    False\n",
      "49692    False\n",
      "49693    False\n",
      "Name: product_name, Length: 49694, dtype: bool\n"
     ]
    }
   ],
   "source": [
    "# Check for just duplicate product names (convert names to lowercase to compare better)\n",
    "#Changing column names to lowercase\n",
    "df_products['product_name'].str.lower()\n",
    "#checking for duplicate product names \n",
    "dupe_prod_names = df_products['product_name'].duplicated()\n",
    "print(dupe_prod_names)"
   ]
  },
  {
   "cell_type": "code",
   "execution_count": 36,
   "id": "01efd02e",
   "metadata": {},
   "outputs": [
    {
     "name": "stdout",
     "output_type": "stream",
     "text": [
      "0        False\n",
      "1        False\n",
      "2        False\n",
      "3        False\n",
      "4        False\n",
      "         ...  \n",
      "49689    False\n",
      "49690    False\n",
      "49691    False\n",
      "49692    False\n",
      "49693    False\n",
      "Length: 49694, dtype: bool\n"
     ]
    }
   ],
   "source": [
    "# Check for duplicate product names that aren't missing\n",
    "duped_prod_names = df_products['product_name'].notna() & df_products.duplicated(subset='product_name')\n",
    "print(duped_prod_names)"
   ]
  },
  {
   "cell_type": "markdown",
   "id": "9da8d293",
   "metadata": {},
   "source": []
  },
  {
   "cell_type": "markdown",
   "id": "60f30db1",
   "metadata": {},
   "source": [
    "### `departments` data frame"
   ]
  },
  {
   "cell_type": "code",
   "execution_count": 37,
   "id": "fb410ad4-0fbf-4b80-bb09-23fdea79afe3",
   "metadata": {},
   "outputs": [
    {
     "name": "stdout",
     "output_type": "stream",
     "text": [
      "<class 'pandas.core.frame.DataFrame'>\n",
      "RangeIndex: 21 entries, 0 to 20\n",
      "Data columns (total 2 columns):\n",
      " #   Column         Non-Null Count  Dtype \n",
      "---  ------         --------------  ----- \n",
      " 0   department_id  21 non-null     int64 \n",
      " 1   department     21 non-null     object\n",
      "dtypes: int64(1), object(1)\n",
      "memory usage: 464.0+ bytes\n"
     ]
    }
   ],
   "source": [
    "df_dept = pd.read_csv('/datasets/departments.csv',sep=';')\n",
    "df_dept.info()"
   ]
  },
  {
   "cell_type": "code",
   "execution_count": 38,
   "id": "332b12bb",
   "metadata": {},
   "outputs": [
    {
     "data": {
      "text/html": [
       "<div>\n",
       "<style scoped>\n",
       "    .dataframe tbody tr th:only-of-type {\n",
       "        vertical-align: middle;\n",
       "    }\n",
       "\n",
       "    .dataframe tbody tr th {\n",
       "        vertical-align: top;\n",
       "    }\n",
       "\n",
       "    .dataframe thead th {\n",
       "        text-align: right;\n",
       "    }\n",
       "</style>\n",
       "<table border=\"1\" class=\"dataframe\">\n",
       "  <thead>\n",
       "    <tr style=\"text-align: right;\">\n",
       "      <th></th>\n",
       "      <th>department_id</th>\n",
       "      <th>department</th>\n",
       "    </tr>\n",
       "  </thead>\n",
       "  <tbody>\n",
       "    <tr>\n",
       "      <th>0</th>\n",
       "      <td>1</td>\n",
       "      <td>frozen</td>\n",
       "    </tr>\n",
       "    <tr>\n",
       "      <th>1</th>\n",
       "      <td>2</td>\n",
       "      <td>other</td>\n",
       "    </tr>\n",
       "    <tr>\n",
       "      <th>2</th>\n",
       "      <td>3</td>\n",
       "      <td>bakery</td>\n",
       "    </tr>\n",
       "    <tr>\n",
       "      <th>3</th>\n",
       "      <td>4</td>\n",
       "      <td>produce</td>\n",
       "    </tr>\n",
       "    <tr>\n",
       "      <th>4</th>\n",
       "      <td>5</td>\n",
       "      <td>alcohol</td>\n",
       "    </tr>\n",
       "    <tr>\n",
       "      <th>5</th>\n",
       "      <td>6</td>\n",
       "      <td>international</td>\n",
       "    </tr>\n",
       "    <tr>\n",
       "      <th>6</th>\n",
       "      <td>7</td>\n",
       "      <td>beverages</td>\n",
       "    </tr>\n",
       "    <tr>\n",
       "      <th>7</th>\n",
       "      <td>8</td>\n",
       "      <td>pets</td>\n",
       "    </tr>\n",
       "    <tr>\n",
       "      <th>8</th>\n",
       "      <td>9</td>\n",
       "      <td>dry goods pasta</td>\n",
       "    </tr>\n",
       "    <tr>\n",
       "      <th>9</th>\n",
       "      <td>10</td>\n",
       "      <td>bulk</td>\n",
       "    </tr>\n",
       "    <tr>\n",
       "      <th>10</th>\n",
       "      <td>11</td>\n",
       "      <td>personal care</td>\n",
       "    </tr>\n",
       "    <tr>\n",
       "      <th>11</th>\n",
       "      <td>12</td>\n",
       "      <td>meat seafood</td>\n",
       "    </tr>\n",
       "    <tr>\n",
       "      <th>12</th>\n",
       "      <td>13</td>\n",
       "      <td>pantry</td>\n",
       "    </tr>\n",
       "    <tr>\n",
       "      <th>13</th>\n",
       "      <td>14</td>\n",
       "      <td>breakfast</td>\n",
       "    </tr>\n",
       "    <tr>\n",
       "      <th>14</th>\n",
       "      <td>15</td>\n",
       "      <td>canned goods</td>\n",
       "    </tr>\n",
       "    <tr>\n",
       "      <th>15</th>\n",
       "      <td>16</td>\n",
       "      <td>dairy eggs</td>\n",
       "    </tr>\n",
       "    <tr>\n",
       "      <th>16</th>\n",
       "      <td>17</td>\n",
       "      <td>household</td>\n",
       "    </tr>\n",
       "    <tr>\n",
       "      <th>17</th>\n",
       "      <td>18</td>\n",
       "      <td>babies</td>\n",
       "    </tr>\n",
       "    <tr>\n",
       "      <th>18</th>\n",
       "      <td>19</td>\n",
       "      <td>snacks</td>\n",
       "    </tr>\n",
       "    <tr>\n",
       "      <th>19</th>\n",
       "      <td>20</td>\n",
       "      <td>deli</td>\n",
       "    </tr>\n",
       "    <tr>\n",
       "      <th>20</th>\n",
       "      <td>21</td>\n",
       "      <td>missing</td>\n",
       "    </tr>\n",
       "  </tbody>\n",
       "</table>\n",
       "</div>"
      ],
      "text/plain": [
       "    department_id       department\n",
       "0               1           frozen\n",
       "1               2            other\n",
       "2               3           bakery\n",
       "3               4          produce\n",
       "4               5          alcohol\n",
       "5               6    international\n",
       "6               7        beverages\n",
       "7               8             pets\n",
       "8               9  dry goods pasta\n",
       "9              10             bulk\n",
       "10             11    personal care\n",
       "11             12     meat seafood\n",
       "12             13           pantry\n",
       "13             14        breakfast\n",
       "14             15     canned goods\n",
       "15             16       dairy eggs\n",
       "16             17        household\n",
       "17             18           babies\n",
       "18             19           snacks\n",
       "19             20             deli\n",
       "20             21          missing"
      ]
     },
     "metadata": {},
     "output_type": "display_data"
    }
   ],
   "source": [
    "display(df_dept)"
   ]
  },
  {
   "cell_type": "markdown",
   "id": "bd30d78e",
   "metadata": {},
   "source": []
  },
  {
   "cell_type": "markdown",
   "id": "889349c1",
   "metadata": {},
   "source": [
    "### `aisles` data frame"
   ]
  },
  {
   "cell_type": "code",
   "execution_count": 39,
   "id": "9da89fb9-4679-40f5-ad0d-c34df753a3f8",
   "metadata": {},
   "outputs": [
    {
     "name": "stdout",
     "output_type": "stream",
     "text": [
      "<class 'pandas.core.frame.DataFrame'>\n",
      "RangeIndex: 134 entries, 0 to 133\n",
      "Data columns (total 2 columns):\n",
      " #   Column    Non-Null Count  Dtype \n",
      "---  ------    --------------  ----- \n",
      " 0   aisle_id  134 non-null    int64 \n",
      " 1   aisle     134 non-null    object\n",
      "dtypes: int64(1), object(1)\n",
      "memory usage: 2.2+ KB\n"
     ]
    }
   ],
   "source": [
    "df_aisles = pd.read_csv('/datasets/aisles.csv',sep=';')\n",
    "df_aisles.info()"
   ]
  },
  {
   "cell_type": "code",
   "execution_count": 40,
   "id": "da7c2822",
   "metadata": {},
   "outputs": [
    {
     "data": {
      "text/html": [
       "<div>\n",
       "<style scoped>\n",
       "    .dataframe tbody tr th:only-of-type {\n",
       "        vertical-align: middle;\n",
       "    }\n",
       "\n",
       "    .dataframe tbody tr th {\n",
       "        vertical-align: top;\n",
       "    }\n",
       "\n",
       "    .dataframe thead th {\n",
       "        text-align: right;\n",
       "    }\n",
       "</style>\n",
       "<table border=\"1\" class=\"dataframe\">\n",
       "  <thead>\n",
       "    <tr style=\"text-align: right;\">\n",
       "      <th></th>\n",
       "      <th>aisle_id</th>\n",
       "      <th>aisle</th>\n",
       "    </tr>\n",
       "  </thead>\n",
       "  <tbody>\n",
       "    <tr>\n",
       "      <th>0</th>\n",
       "      <td>1</td>\n",
       "      <td>prepared soups salads</td>\n",
       "    </tr>\n",
       "    <tr>\n",
       "      <th>1</th>\n",
       "      <td>2</td>\n",
       "      <td>specialty cheeses</td>\n",
       "    </tr>\n",
       "    <tr>\n",
       "      <th>2</th>\n",
       "      <td>3</td>\n",
       "      <td>energy granola bars</td>\n",
       "    </tr>\n",
       "    <tr>\n",
       "      <th>3</th>\n",
       "      <td>4</td>\n",
       "      <td>instant foods</td>\n",
       "    </tr>\n",
       "    <tr>\n",
       "      <th>4</th>\n",
       "      <td>5</td>\n",
       "      <td>marinades meat preparation</td>\n",
       "    </tr>\n",
       "    <tr>\n",
       "      <th>...</th>\n",
       "      <td>...</td>\n",
       "      <td>...</td>\n",
       "    </tr>\n",
       "    <tr>\n",
       "      <th>129</th>\n",
       "      <td>130</td>\n",
       "      <td>hot cereal pancake mixes</td>\n",
       "    </tr>\n",
       "    <tr>\n",
       "      <th>130</th>\n",
       "      <td>131</td>\n",
       "      <td>dry pasta</td>\n",
       "    </tr>\n",
       "    <tr>\n",
       "      <th>131</th>\n",
       "      <td>132</td>\n",
       "      <td>beauty</td>\n",
       "    </tr>\n",
       "    <tr>\n",
       "      <th>132</th>\n",
       "      <td>133</td>\n",
       "      <td>muscles joints pain relief</td>\n",
       "    </tr>\n",
       "    <tr>\n",
       "      <th>133</th>\n",
       "      <td>134</td>\n",
       "      <td>specialty wines champagnes</td>\n",
       "    </tr>\n",
       "  </tbody>\n",
       "</table>\n",
       "<p>134 rows × 2 columns</p>\n",
       "</div>"
      ],
      "text/plain": [
       "     aisle_id                       aisle\n",
       "0           1       prepared soups salads\n",
       "1           2           specialty cheeses\n",
       "2           3         energy granola bars\n",
       "3           4               instant foods\n",
       "4           5  marinades meat preparation\n",
       "..        ...                         ...\n",
       "129       130    hot cereal pancake mixes\n",
       "130       131                   dry pasta\n",
       "131       132                      beauty\n",
       "132       133  muscles joints pain relief\n",
       "133       134  specialty wines champagnes\n",
       "\n",
       "[134 rows x 2 columns]"
      ]
     },
     "metadata": {},
     "output_type": "display_data"
    }
   ],
   "source": [
    "display(df_aisles)"
   ]
  },
  {
   "cell_type": "markdown",
   "id": "ac63826f",
   "metadata": {},
   "source": []
  },
  {
   "cell_type": "markdown",
   "id": "274cd06a",
   "metadata": {},
   "source": [
    "### `order_products` data frame"
   ]
  },
  {
   "cell_type": "code",
   "execution_count": 41,
   "id": "52326689-84a8-4b8f-a881-7c68780f62c9",
   "metadata": {},
   "outputs": [
    {
     "name": "stdout",
     "output_type": "stream",
     "text": [
      "0          False\n",
      "1          False\n",
      "2          False\n",
      "3          False\n",
      "4          False\n",
      "           ...  \n",
      "4545002    False\n",
      "4545003    False\n",
      "4545004    False\n",
      "4545005    False\n",
      "4545006    False\n",
      "Length: 4545007, dtype: bool\n"
     ]
    }
   ],
   "source": [
    "# Check for fullly duplicate rows\n",
    "dupe_oproducts = df_o_products.duplicated()\n",
    "print(dupe_oproducts)"
   ]
  },
  {
   "cell_type": "code",
   "execution_count": 42,
   "id": "7b861391",
   "metadata": {},
   "outputs": [
    {
     "name": "stdout",
     "output_type": "stream",
     "text": [
      "0          False\n",
      "1           True\n",
      "2           True\n",
      "3           True\n",
      "4           True\n",
      "           ...  \n",
      "4545002     True\n",
      "4545003     True\n",
      "4545004     True\n",
      "4545005     True\n",
      "4545006     True\n",
      "Length: 4545007, dtype: bool\n"
     ]
    }
   ],
   "source": [
    "# Double check for any other tricky duplicates\n",
    "\n",
    "#^^This isn't particularly clear so I simply repeated the acctuions from one of the previous tasks, looking for the nonmissing ones\n",
    "duped_oproducts = df_o_products.notna()\n",
    "duped_oproducts = duped_oproducts.duplicated()\n",
    "print(duped_oproducts)"
   ]
  },
  {
   "cell_type": "markdown",
   "id": "0b890492",
   "metadata": {},
   "source": []
  },
  {
   "cell_type": "markdown",
   "id": "1e46de76",
   "metadata": {},
   "source": [
    "## Find and remove missing values\n"
   ]
  },
  {
   "cell_type": "markdown",
   "id": "c0aebd78",
   "metadata": {},
   "source": [
    "### `products` data frame"
   ]
  },
  {
   "cell_type": "code",
   "execution_count": 43,
   "id": "fe4a8b0f",
   "metadata": {},
   "outputs": [
    {
     "data": {
      "text/html": [
       "<div>\n",
       "<style scoped>\n",
       "    .dataframe tbody tr th:only-of-type {\n",
       "        vertical-align: middle;\n",
       "    }\n",
       "\n",
       "    .dataframe tbody tr th {\n",
       "        vertical-align: top;\n",
       "    }\n",
       "\n",
       "    .dataframe thead th {\n",
       "        text-align: right;\n",
       "    }\n",
       "</style>\n",
       "<table border=\"1\" class=\"dataframe\">\n",
       "  <thead>\n",
       "    <tr style=\"text-align: right;\">\n",
       "      <th></th>\n",
       "      <th>product_id</th>\n",
       "      <th>product_name</th>\n",
       "      <th>aisle_id</th>\n",
       "      <th>department_id</th>\n",
       "    </tr>\n",
       "  </thead>\n",
       "  <tbody>\n",
       "    <tr>\n",
       "      <th>0</th>\n",
       "      <td>1</td>\n",
       "      <td>Chocolate Sandwich Cookies</td>\n",
       "      <td>61</td>\n",
       "      <td>19</td>\n",
       "    </tr>\n",
       "    <tr>\n",
       "      <th>1</th>\n",
       "      <td>2</td>\n",
       "      <td>All-Seasons Salt</td>\n",
       "      <td>104</td>\n",
       "      <td>13</td>\n",
       "    </tr>\n",
       "    <tr>\n",
       "      <th>2</th>\n",
       "      <td>3</td>\n",
       "      <td>Robust Golden Unsweetened Oolong Tea</td>\n",
       "      <td>94</td>\n",
       "      <td>7</td>\n",
       "    </tr>\n",
       "    <tr>\n",
       "      <th>3</th>\n",
       "      <td>4</td>\n",
       "      <td>Smart Ones Classic Favorites Mini Rigatoni Wit...</td>\n",
       "      <td>38</td>\n",
       "      <td>1</td>\n",
       "    </tr>\n",
       "    <tr>\n",
       "      <th>4</th>\n",
       "      <td>5</td>\n",
       "      <td>Green Chile Anytime Sauce</td>\n",
       "      <td>5</td>\n",
       "      <td>13</td>\n",
       "    </tr>\n",
       "    <tr>\n",
       "      <th>...</th>\n",
       "      <td>...</td>\n",
       "      <td>...</td>\n",
       "      <td>...</td>\n",
       "      <td>...</td>\n",
       "    </tr>\n",
       "    <tr>\n",
       "      <th>49689</th>\n",
       "      <td>49690</td>\n",
       "      <td>HIGH PERFORMANCE ENERGY DRINK</td>\n",
       "      <td>64</td>\n",
       "      <td>7</td>\n",
       "    </tr>\n",
       "    <tr>\n",
       "      <th>49690</th>\n",
       "      <td>49691</td>\n",
       "      <td>ORIGINAL PANCAKE &amp; WAFFLE MIX</td>\n",
       "      <td>130</td>\n",
       "      <td>14</td>\n",
       "    </tr>\n",
       "    <tr>\n",
       "      <th>49691</th>\n",
       "      <td>49692</td>\n",
       "      <td>ORGANIC INSTANT OATMEAL LIGHT MAPLE BROWN SUGAR</td>\n",
       "      <td>130</td>\n",
       "      <td>14</td>\n",
       "    </tr>\n",
       "    <tr>\n",
       "      <th>49692</th>\n",
       "      <td>49693</td>\n",
       "      <td>SPRING WATER BODY WASH</td>\n",
       "      <td>127</td>\n",
       "      <td>11</td>\n",
       "    </tr>\n",
       "    <tr>\n",
       "      <th>49693</th>\n",
       "      <td>49694</td>\n",
       "      <td>BURRITO- STEAK &amp; CHEESE</td>\n",
       "      <td>38</td>\n",
       "      <td>1</td>\n",
       "    </tr>\n",
       "  </tbody>\n",
       "</table>\n",
       "<p>49694 rows × 4 columns</p>\n",
       "</div>"
      ],
      "text/plain": [
       "       product_id                                       product_name  \\\n",
       "0               1                         Chocolate Sandwich Cookies   \n",
       "1               2                                   All-Seasons Salt   \n",
       "2               3               Robust Golden Unsweetened Oolong Tea   \n",
       "3               4  Smart Ones Classic Favorites Mini Rigatoni Wit...   \n",
       "4               5                          Green Chile Anytime Sauce   \n",
       "...           ...                                                ...   \n",
       "49689       49690                      HIGH PERFORMANCE ENERGY DRINK   \n",
       "49690       49691                      ORIGINAL PANCAKE & WAFFLE MIX   \n",
       "49691       49692    ORGANIC INSTANT OATMEAL LIGHT MAPLE BROWN SUGAR   \n",
       "49692       49693                             SPRING WATER BODY WASH   \n",
       "49693       49694                            BURRITO- STEAK & CHEESE   \n",
       "\n",
       "       aisle_id  department_id  \n",
       "0            61             19  \n",
       "1           104             13  \n",
       "2            94              7  \n",
       "3            38              1  \n",
       "4             5             13  \n",
       "...         ...            ...  \n",
       "49689        64              7  \n",
       "49690       130             14  \n",
       "49691       130             14  \n",
       "49692       127             11  \n",
       "49693        38              1  \n",
       "\n",
       "[49694 rows x 4 columns]"
      ]
     },
     "metadata": {},
     "output_type": "display_data"
    },
    {
     "name": "stdout",
     "output_type": "stream",
     "text": [
      "<class 'pandas.core.frame.DataFrame'>\n",
      "RangeIndex: 49694 entries, 0 to 49693\n",
      "Data columns (total 4 columns):\n",
      " #   Column         Non-Null Count  Dtype \n",
      "---  ------         --------------  ----- \n",
      " 0   product_id     49694 non-null  int64 \n",
      " 1   product_name   48436 non-null  object\n",
      " 2   aisle_id       49694 non-null  int64 \n",
      " 3   department_id  49694 non-null  int64 \n",
      "dtypes: int64(3), object(1)\n",
      "memory usage: 1.5+ MB\n"
     ]
    }
   ],
   "source": [
    "df_products = pd.read_csv('/datasets/products.csv',sep=';')\n",
    "display(df_products)\n",
    "df_products.info()"
   ]
  },
  {
   "cell_type": "code",
   "execution_count": 44,
   "id": "e96167bc",
   "metadata": {},
   "outputs": [
    {
     "name": "stdout",
     "output_type": "stream",
     "text": [
      "True\n"
     ]
    }
   ],
   "source": [
    "# Are all of the missing product names associated with aisle ID 100?\n",
    "import numpy as np\n",
    "\n",
    "#finding the missing values in the 'product name column'\n",
    "missing_names = df_products[df_products['product_name'].isnull()]\n",
    "#finding whether or not all the missing values in product name are related to aisle 100 and returning a bool\n",
    "aisle_missing = np.all(missing_names['aisle_id'] == 100)\n",
    "#print(missing_names)\n",
    "print(aisle_missing)\n"
   ]
  },
  {
   "cell_type": "code",
   "execution_count": 45,
   "id": "8fd0a541",
   "metadata": {},
   "outputs": [
    {
     "name": "stdout",
     "output_type": "stream",
     "text": [
      "True\n"
     ]
    }
   ],
   "source": [
    "# Are all of the missing product names associated with department ID 21?\n",
    "#finding whether or not all the missing values in product name are related to aisle 100 and returning a bool\n",
    "dept_missing = np.all(missing_names['department_id'] == 21)\n",
    "print(dept_missing)"
   ]
  },
  {
   "cell_type": "code",
   "execution_count": null,
   "id": "325c3464",
   "metadata": {},
   "outputs": [],
   "source": [
    "# What is this ailse and department?\n",
    "'''This question feels unclear in what it's asking for me to do.\n",
    "The previous two questions already specify that the aisle is 100 and the department id is 21\n",
    "Am I being asked to print that set out as a table or use it in some other way? \n",
    "'''"
   ]
  },
  {
   "cell_type": "code",
   "execution_count": 46,
   "id": "6b295120",
   "metadata": {},
   "outputs": [
    {
     "data": {
      "text/html": [
       "<div>\n",
       "<style scoped>\n",
       "    .dataframe tbody tr th:only-of-type {\n",
       "        vertical-align: middle;\n",
       "    }\n",
       "\n",
       "    .dataframe tbody tr th {\n",
       "        vertical-align: top;\n",
       "    }\n",
       "\n",
       "    .dataframe thead th {\n",
       "        text-align: right;\n",
       "    }\n",
       "</style>\n",
       "<table border=\"1\" class=\"dataframe\">\n",
       "  <thead>\n",
       "    <tr style=\"text-align: right;\">\n",
       "      <th></th>\n",
       "      <th>product_id</th>\n",
       "      <th>product_name</th>\n",
       "      <th>aisle_id</th>\n",
       "      <th>department_id</th>\n",
       "    </tr>\n",
       "  </thead>\n",
       "  <tbody>\n",
       "    <tr>\n",
       "      <th>37</th>\n",
       "      <td>38</td>\n",
       "      <td>Unknown</td>\n",
       "      <td>100</td>\n",
       "      <td>21</td>\n",
       "    </tr>\n",
       "    <tr>\n",
       "      <th>71</th>\n",
       "      <td>72</td>\n",
       "      <td>Unknown</td>\n",
       "      <td>100</td>\n",
       "      <td>21</td>\n",
       "    </tr>\n",
       "    <tr>\n",
       "      <th>109</th>\n",
       "      <td>110</td>\n",
       "      <td>Unknown</td>\n",
       "      <td>100</td>\n",
       "      <td>21</td>\n",
       "    </tr>\n",
       "    <tr>\n",
       "      <th>296</th>\n",
       "      <td>297</td>\n",
       "      <td>Unknown</td>\n",
       "      <td>100</td>\n",
       "      <td>21</td>\n",
       "    </tr>\n",
       "    <tr>\n",
       "      <th>416</th>\n",
       "      <td>417</td>\n",
       "      <td>Unknown</td>\n",
       "      <td>100</td>\n",
       "      <td>21</td>\n",
       "    </tr>\n",
       "    <tr>\n",
       "      <th>...</th>\n",
       "      <td>...</td>\n",
       "      <td>...</td>\n",
       "      <td>...</td>\n",
       "      <td>...</td>\n",
       "    </tr>\n",
       "    <tr>\n",
       "      <th>49552</th>\n",
       "      <td>49553</td>\n",
       "      <td>Unknown</td>\n",
       "      <td>100</td>\n",
       "      <td>21</td>\n",
       "    </tr>\n",
       "    <tr>\n",
       "      <th>49574</th>\n",
       "      <td>49575</td>\n",
       "      <td>Unknown</td>\n",
       "      <td>100</td>\n",
       "      <td>21</td>\n",
       "    </tr>\n",
       "    <tr>\n",
       "      <th>49640</th>\n",
       "      <td>49641</td>\n",
       "      <td>Unknown</td>\n",
       "      <td>100</td>\n",
       "      <td>21</td>\n",
       "    </tr>\n",
       "    <tr>\n",
       "      <th>49663</th>\n",
       "      <td>49664</td>\n",
       "      <td>Unknown</td>\n",
       "      <td>100</td>\n",
       "      <td>21</td>\n",
       "    </tr>\n",
       "    <tr>\n",
       "      <th>49668</th>\n",
       "      <td>49669</td>\n",
       "      <td>Unknown</td>\n",
       "      <td>100</td>\n",
       "      <td>21</td>\n",
       "    </tr>\n",
       "  </tbody>\n",
       "</table>\n",
       "<p>1258 rows × 4 columns</p>\n",
       "</div>"
      ],
      "text/plain": [
       "       product_id product_name  aisle_id  department_id\n",
       "37             38      Unknown       100             21\n",
       "71             72      Unknown       100             21\n",
       "109           110      Unknown       100             21\n",
       "296           297      Unknown       100             21\n",
       "416           417      Unknown       100             21\n",
       "...           ...          ...       ...            ...\n",
       "49552       49553      Unknown       100             21\n",
       "49574       49575      Unknown       100             21\n",
       "49640       49641      Unknown       100             21\n",
       "49663       49664      Unknown       100             21\n",
       "49668       49669      Unknown       100             21\n",
       "\n",
       "[1258 rows x 4 columns]"
      ]
     },
     "metadata": {},
     "output_type": "display_data"
    }
   ],
   "source": [
    "# Fill missing product names with 'Unknown'\n",
    "missing_names = missing_names.fillna('Unknown')\n",
    "display(missing_names)"
   ]
  },
  {
   "cell_type": "markdown",
   "id": "fc70e5ad",
   "metadata": {},
   "source": []
  },
  {
   "cell_type": "markdown",
   "id": "7eb45c86",
   "metadata": {},
   "source": [
    "### `orders` data frame"
   ]
  },
  {
   "cell_type": "code",
   "execution_count": 62,
   "id": "93e41d96",
   "metadata": {},
   "outputs": [
    {
     "data": {
      "text/html": [
       "<div>\n",
       "<style scoped>\n",
       "    .dataframe tbody tr th:only-of-type {\n",
       "        vertical-align: middle;\n",
       "    }\n",
       "\n",
       "    .dataframe tbody tr th {\n",
       "        vertical-align: top;\n",
       "    }\n",
       "\n",
       "    .dataframe thead th {\n",
       "        text-align: right;\n",
       "    }\n",
       "</style>\n",
       "<table border=\"1\" class=\"dataframe\">\n",
       "  <thead>\n",
       "    <tr style=\"text-align: right;\">\n",
       "      <th></th>\n",
       "      <th>order_id</th>\n",
       "      <th>user_id</th>\n",
       "      <th>order_number</th>\n",
       "      <th>order_dow</th>\n",
       "      <th>order_hour_of_day</th>\n",
       "      <th>days_since_prior_order</th>\n",
       "    </tr>\n",
       "  </thead>\n",
       "  <tbody>\n",
       "    <tr>\n",
       "      <th>0</th>\n",
       "      <td>1515936</td>\n",
       "      <td>183418</td>\n",
       "      <td>11</td>\n",
       "      <td>6</td>\n",
       "      <td>13</td>\n",
       "      <td>30.0</td>\n",
       "    </tr>\n",
       "    <tr>\n",
       "      <th>1</th>\n",
       "      <td>1690866</td>\n",
       "      <td>163593</td>\n",
       "      <td>5</td>\n",
       "      <td>5</td>\n",
       "      <td>12</td>\n",
       "      <td>9.0</td>\n",
       "    </tr>\n",
       "    <tr>\n",
       "      <th>2</th>\n",
       "      <td>1454967</td>\n",
       "      <td>39980</td>\n",
       "      <td>4</td>\n",
       "      <td>5</td>\n",
       "      <td>19</td>\n",
       "      <td>2.0</td>\n",
       "    </tr>\n",
       "    <tr>\n",
       "      <th>3</th>\n",
       "      <td>1768857</td>\n",
       "      <td>82516</td>\n",
       "      <td>56</td>\n",
       "      <td>0</td>\n",
       "      <td>20</td>\n",
       "      <td>10.0</td>\n",
       "    </tr>\n",
       "    <tr>\n",
       "      <th>4</th>\n",
       "      <td>3007858</td>\n",
       "      <td>196724</td>\n",
       "      <td>2</td>\n",
       "      <td>4</td>\n",
       "      <td>12</td>\n",
       "      <td>17.0</td>\n",
       "    </tr>\n",
       "    <tr>\n",
       "      <th>...</th>\n",
       "      <td>...</td>\n",
       "      <td>...</td>\n",
       "      <td>...</td>\n",
       "      <td>...</td>\n",
       "      <td>...</td>\n",
       "      <td>...</td>\n",
       "    </tr>\n",
       "    <tr>\n",
       "      <th>478962</th>\n",
       "      <td>3210681</td>\n",
       "      <td>5617</td>\n",
       "      <td>5</td>\n",
       "      <td>1</td>\n",
       "      <td>14</td>\n",
       "      <td>7.0</td>\n",
       "    </tr>\n",
       "    <tr>\n",
       "      <th>478963</th>\n",
       "      <td>3270802</td>\n",
       "      <td>112087</td>\n",
       "      <td>2</td>\n",
       "      <td>3</td>\n",
       "      <td>13</td>\n",
       "      <td>6.0</td>\n",
       "    </tr>\n",
       "    <tr>\n",
       "      <th>478964</th>\n",
       "      <td>885349</td>\n",
       "      <td>82944</td>\n",
       "      <td>16</td>\n",
       "      <td>2</td>\n",
       "      <td>11</td>\n",
       "      <td>6.0</td>\n",
       "    </tr>\n",
       "    <tr>\n",
       "      <th>478965</th>\n",
       "      <td>216274</td>\n",
       "      <td>4391</td>\n",
       "      <td>3</td>\n",
       "      <td>3</td>\n",
       "      <td>8</td>\n",
       "      <td>8.0</td>\n",
       "    </tr>\n",
       "    <tr>\n",
       "      <th>478966</th>\n",
       "      <td>2071924</td>\n",
       "      <td>1730</td>\n",
       "      <td>18</td>\n",
       "      <td>1</td>\n",
       "      <td>14</td>\n",
       "      <td>15.0</td>\n",
       "    </tr>\n",
       "  </tbody>\n",
       "</table>\n",
       "<p>478967 rows × 6 columns</p>\n",
       "</div>"
      ],
      "text/plain": [
       "        order_id  user_id  order_number  order_dow  order_hour_of_day  \\\n",
       "0        1515936   183418            11          6                 13   \n",
       "1        1690866   163593             5          5                 12   \n",
       "2        1454967    39980             4          5                 19   \n",
       "3        1768857    82516            56          0                 20   \n",
       "4        3007858   196724             2          4                 12   \n",
       "...          ...      ...           ...        ...                ...   \n",
       "478962   3210681     5617             5          1                 14   \n",
       "478963   3270802   112087             2          3                 13   \n",
       "478964    885349    82944            16          2                 11   \n",
       "478965    216274     4391             3          3                  8   \n",
       "478966   2071924     1730            18          1                 14   \n",
       "\n",
       "        days_since_prior_order  \n",
       "0                         30.0  \n",
       "1                          9.0  \n",
       "2                          2.0  \n",
       "3                         10.0  \n",
       "4                         17.0  \n",
       "...                        ...  \n",
       "478962                     7.0  \n",
       "478963                     6.0  \n",
       "478964                     6.0  \n",
       "478965                     8.0  \n",
       "478966                    15.0  \n",
       "\n",
       "[478967 rows x 6 columns]"
      ]
     },
     "metadata": {},
     "output_type": "display_data"
    },
    {
     "name": "stdout",
     "output_type": "stream",
     "text": [
      "<class 'pandas.core.frame.DataFrame'>\n",
      "RangeIndex: 478967 entries, 0 to 478966\n",
      "Data columns (total 6 columns):\n",
      " #   Column                  Non-Null Count   Dtype  \n",
      "---  ------                  --------------   -----  \n",
      " 0   order_id                478967 non-null  int64  \n",
      " 1   user_id                 478967 non-null  int64  \n",
      " 2   order_number            478967 non-null  int64  \n",
      " 3   order_dow               478967 non-null  int64  \n",
      " 4   order_hour_of_day       478967 non-null  int64  \n",
      " 5   days_since_prior_order  450148 non-null  float64\n",
      "dtypes: float64(1), int64(5)\n",
      "memory usage: 21.9 MB\n"
     ]
    }
   ],
   "source": [
    "df_orders = pd.read_csv('/datasets/instacart_orders.csv',sep=';')\n",
    "display(df_orders)\n",
    "df_orders.info()"
   ]
  },
  {
   "cell_type": "code",
   "execution_count": null,
   "id": "166e5a86",
   "metadata": {},
   "outputs": [],
   "source": [
    "# Are there any missing values where it's not a customer's first order?\n",
    "'''\n",
    "sorting the data by the order number column to discern where the order count begins.\n",
    "Didn't want to assume that it begain with 0 without checking.\n",
    "'''\n",
    "sorted_orders = df_orders.sort_values('order_number')\n",
    "display(sorted_orders)\n",
    "\n",
    "'''\n",
    "After discovering that 1 is the lowest value in the column, I can deduce that the count starts at one.\n",
    "I can also deduce that userids with only 1 order AND a missing value in 'days_since_prior_order' for their row\n",
    "fall into the customer's that have made their first order.\n",
    "\n",
    "Now I have parameters with which to work an answer the question\n",
    "'''\n",
    "\n",
    "#this variable is currently unused\n",
    "first_orders = df_orders[(df_orders['order_number'] == 1) & (df_orders['days_since_prior_order'] == 'NaN')]\n",
    "\n",
    "#Check for the answer to the question and print it as a bool\n",
    "non_first = np.all(df_orders[(df_orders['order_number'] > 1)].isnull())\n",
    "print(non_first)"
   ]
  },
  {
   "cell_type": "markdown",
   "id": "4e23d089",
   "metadata": {},
   "source": []
  },
  {
   "cell_type": "markdown",
   "id": "69dc9ca4",
   "metadata": {},
   "source": [
    "### `order_products` data frame"
   ]
  },
  {
   "cell_type": "code",
   "execution_count": 63,
   "id": "b8240253",
   "metadata": {},
   "outputs": [
    {
     "data": {
      "text/html": [
       "<div>\n",
       "<style scoped>\n",
       "    .dataframe tbody tr th:only-of-type {\n",
       "        vertical-align: middle;\n",
       "    }\n",
       "\n",
       "    .dataframe tbody tr th {\n",
       "        vertical-align: top;\n",
       "    }\n",
       "\n",
       "    .dataframe thead th {\n",
       "        text-align: right;\n",
       "    }\n",
       "</style>\n",
       "<table border=\"1\" class=\"dataframe\">\n",
       "  <thead>\n",
       "    <tr style=\"text-align: right;\">\n",
       "      <th></th>\n",
       "      <th>order_id</th>\n",
       "      <th>product_id</th>\n",
       "      <th>add_to_cart_order</th>\n",
       "      <th>reordered</th>\n",
       "    </tr>\n",
       "  </thead>\n",
       "  <tbody>\n",
       "    <tr>\n",
       "      <th>0</th>\n",
       "      <td>2141543</td>\n",
       "      <td>11440</td>\n",
       "      <td>17.0</td>\n",
       "      <td>0</td>\n",
       "    </tr>\n",
       "    <tr>\n",
       "      <th>1</th>\n",
       "      <td>567889</td>\n",
       "      <td>1560</td>\n",
       "      <td>1.0</td>\n",
       "      <td>1</td>\n",
       "    </tr>\n",
       "    <tr>\n",
       "      <th>2</th>\n",
       "      <td>2261212</td>\n",
       "      <td>26683</td>\n",
       "      <td>1.0</td>\n",
       "      <td>1</td>\n",
       "    </tr>\n",
       "    <tr>\n",
       "      <th>3</th>\n",
       "      <td>491251</td>\n",
       "      <td>8670</td>\n",
       "      <td>35.0</td>\n",
       "      <td>1</td>\n",
       "    </tr>\n",
       "    <tr>\n",
       "      <th>4</th>\n",
       "      <td>2571142</td>\n",
       "      <td>1940</td>\n",
       "      <td>5.0</td>\n",
       "      <td>1</td>\n",
       "    </tr>\n",
       "    <tr>\n",
       "      <th>...</th>\n",
       "      <td>...</td>\n",
       "      <td>...</td>\n",
       "      <td>...</td>\n",
       "      <td>...</td>\n",
       "    </tr>\n",
       "    <tr>\n",
       "      <th>4545002</th>\n",
       "      <td>577211</td>\n",
       "      <td>15290</td>\n",
       "      <td>12.0</td>\n",
       "      <td>1</td>\n",
       "    </tr>\n",
       "    <tr>\n",
       "      <th>4545003</th>\n",
       "      <td>1219554</td>\n",
       "      <td>21914</td>\n",
       "      <td>9.0</td>\n",
       "      <td>0</td>\n",
       "    </tr>\n",
       "    <tr>\n",
       "      <th>4545004</th>\n",
       "      <td>692640</td>\n",
       "      <td>47766</td>\n",
       "      <td>4.0</td>\n",
       "      <td>1</td>\n",
       "    </tr>\n",
       "    <tr>\n",
       "      <th>4545005</th>\n",
       "      <td>319435</td>\n",
       "      <td>691</td>\n",
       "      <td>8.0</td>\n",
       "      <td>1</td>\n",
       "    </tr>\n",
       "    <tr>\n",
       "      <th>4545006</th>\n",
       "      <td>1398151</td>\n",
       "      <td>28733</td>\n",
       "      <td>9.0</td>\n",
       "      <td>0</td>\n",
       "    </tr>\n",
       "  </tbody>\n",
       "</table>\n",
       "<p>4545007 rows × 4 columns</p>\n",
       "</div>"
      ],
      "text/plain": [
       "         order_id  product_id  add_to_cart_order  reordered\n",
       "0         2141543       11440               17.0          0\n",
       "1          567889        1560                1.0          1\n",
       "2         2261212       26683                1.0          1\n",
       "3          491251        8670               35.0          1\n",
       "4         2571142        1940                5.0          1\n",
       "...           ...         ...                ...        ...\n",
       "4545002    577211       15290               12.0          1\n",
       "4545003   1219554       21914                9.0          0\n",
       "4545004    692640       47766                4.0          1\n",
       "4545005    319435         691                8.0          1\n",
       "4545006   1398151       28733                9.0          0\n",
       "\n",
       "[4545007 rows x 4 columns]"
      ]
     },
     "metadata": {},
     "output_type": "display_data"
    },
    {
     "name": "stdout",
     "output_type": "stream",
     "text": [
      "<class 'pandas.core.frame.DataFrame'>\n",
      "RangeIndex: 4545007 entries, 0 to 4545006\n",
      "Data columns (total 4 columns):\n",
      " #   Column             Dtype  \n",
      "---  ------             -----  \n",
      " 0   order_id           int64  \n",
      " 1   product_id         int64  \n",
      " 2   add_to_cart_order  float64\n",
      " 3   reordered          int64  \n",
      "dtypes: float64(1), int64(3)\n",
      "memory usage: 138.7 MB\n"
     ]
    }
   ],
   "source": [
    "df_order_products = pd.read_csv('/datasets/order_products.csv',sep=';')\n",
    "display(df_order_products)\n",
    "df_order_products.info()"
   ]
  },
  {
   "cell_type": "code",
   "execution_count": null,
   "id": "9a78e5ee",
   "metadata": {},
   "outputs": [],
   "source": [
    "# What are the min and max values in this column?\n",
    "'''\n",
    "Unsure which column(s) are being referred to in this question\n",
    "'''\n",
    "min_values = df_order_products.min()\n",
    "max_values = df_order_products.max()\n",
    "print(min_values)\n",
    "\n",
    "print(max_values)\n"
   ]
  },
  {
   "cell_type": "code",
   "execution_count": null,
   "id": "ab9d0c2b",
   "metadata": {},
   "outputs": [],
   "source": [
    "# Save all order IDs with at least one missing value in 'add_to_cart_order'\n",
    "missing_addtocart = df_order_products['add_to_cart_order'].isnull()\n",
    "ids_with_missing = df_order_products.loc[missing_addtocart,'order_id']\n",
    "print(ids_with_missing)"
   ]
  },
  {
   "cell_type": "code",
   "execution_count": null,
   "id": "54c31695",
   "metadata": {},
   "outputs": [],
   "source": [
    "# Do all orders with missing values have more than 64 products?\n",
    "more_than_64 = np.all(df_order_products['add_to_cart_order'] > 64)\n",
    "print(more_than_64)"
   ]
  },
  {
   "cell_type": "code",
   "execution_count": null,
   "id": "7a987d08",
   "metadata": {},
   "outputs": [],
   "source": [
    "# Replace missing values with 999 and convert column to integer type\n",
    "df_order_products = df_order_products.fillna(999).astype(int)\n"
   ]
  },
  {
   "cell_type": "markdown",
   "id": "fea4bcc7",
   "metadata": {},
   "source": []
  },
  {
   "cell_type": "markdown",
   "id": "turkish-kidney",
   "metadata": {},
   "source": [
    "# [A] Easy (must complete all to pass)"
   ]
  },
  {
   "cell_type": "markdown",
   "id": "short-capability",
   "metadata": {},
   "source": [
    "### [A1] Verify that the `'order_hour_of_day'` and `'order_dow'` values in the `orders` tables are sensible (i.e. `'order_hour_of_day'` ranges from 0 to 23 and `'order_dow'` ranges from 0 to 6)"
   ]
  },
  {
   "cell_type": "code",
   "execution_count": null,
   "id": "growing-fruit",
   "metadata": {},
   "outputs": [],
   "source": [
    "\n",
    "#Checking the value ranges by using min/max\n",
    "min_hour = df_orders['order_hour_of_day'].min()\n",
    "max_hour = df_orders['order_hour_of_day'].max()\n",
    "print(f\"The range of values goes from {min_hour} to {max_hour}\")"
   ]
  },
  {
   "cell_type": "code",
   "execution_count": null,
   "id": "accessory-malaysia",
   "metadata": {},
   "outputs": [],
   "source": [
    "\n",
    "#Checking the value ranges by using min/max\n",
    "min_day = df_orders['order_dow'].min()\n",
    "max_day = df_orders['order_dow'].max()\n",
    "print(f\"The range of values goes from {min_day} to {max_day}\")"
   ]
  },
  {
   "cell_type": "markdown",
   "id": "a6743a70",
   "metadata": {},
   "source": [
    "### [A2] What time of day do people shop for groceries?"
   ]
  },
  {
   "cell_type": "code",
   "execution_count": null,
   "id": "a36cca27",
   "metadata": {},
   "outputs": [],
   "source": [
    "#I'll determine this by using getting the value counts from order hour of the day and printing which id shows up the most often\n",
    "shopping_hour = df_orders['order_hour_of_day'].value_counts().idxmax()\n",
    "print(shopping_hour)"
   ]
  },
  {
   "cell_type": "markdown",
   "id": "11270eed",
   "metadata": {},
   "source": []
  },
  {
   "cell_type": "markdown",
   "id": "documented-command",
   "metadata": {},
   "source": [
    "### [A3] What day of the week do people shop for groceries?"
   ]
  },
  {
   "cell_type": "code",
   "execution_count": null,
   "id": "chief-digit",
   "metadata": {},
   "outputs": [],
   "source": [
    "#I'll determine this by using getting the average from the hour_of_day column\n",
    "shopping_day = df_orders['order_dow'].value_counts().idxmax()\n",
    "print(shopping_day)"
   ]
  },
  {
   "cell_type": "markdown",
   "id": "dominant-lightning",
   "metadata": {},
   "source": []
  },
  {
   "cell_type": "markdown",
   "id": "cutting-concert",
   "metadata": {},
   "source": [
    "### [A4] How long do people wait until placing another order?"
   ]
  },
  {
   "cell_type": "code",
   "execution_count": null,
   "id": "c231f523",
   "metadata": {},
   "outputs": [],
   "source": [
    "display(df_orders)\n",
    "df_orders.info()"
   ]
  },
  {
   "cell_type": "markdown",
   "id": "discrete-vertex",
   "metadata": {},
   "source": []
  },
  {
   "cell_type": "code",
   "execution_count": null,
   "id": "exciting-fantasy",
   "metadata": {},
   "outputs": [],
   "source": [
    "next_order = df_orders['days_since_prior_order'].value_counts().idxmax()\n",
    "print(next_order)"
   ]
  },
  {
   "cell_type": "markdown",
   "id": "8d926614",
   "metadata": {},
   "source": []
  },
  {
   "cell_type": "markdown",
   "id": "tight-staff",
   "metadata": {},
   "source": [
    "# [B] Medium (must complete all to pass)"
   ]
  },
  {
   "cell_type": "markdown",
   "id": "packed-classic",
   "metadata": {},
   "source": [
    "### [B1] Is there a difference in `'order_hour_of_day'` distributions on Wednesdays and Saturdays? Plot the histograms for both days and describe the differences that you see."
   ]
  },
  {
   "cell_type": "code",
   "execution_count": null,
   "id": "d89b8403",
   "metadata": {},
   "outputs": [],
   "source": [
    "import matplotlib.pyplot as plt"
   ]
  },
  {
   "cell_type": "code",
   "execution_count": null,
   "id": "94e54e8a",
   "metadata": {},
   "outputs": [],
   "source": [
    "#based on the previously discovered relation between the indicies and the days of the week \n",
    "weds = 3\n",
    "#filter the dataframe based on things happening only on Weds\n",
    "weds_shopping = df_orders[df_orders['order_dow'] == weds]\n",
    "\n",
    "#plotting the histogram\n",
    "plt.hist(weds_shopping['order_hour_of_day'], bins=24, edgecolor='black')\n",
    "plt.title('Wednesday Dsitribution'.format(weds))\n",
    "plt.xlabel('testing')\n",
    "plt.show()"
   ]
  },
  {
   "cell_type": "code",
   "execution_count": null,
   "id": "797c90a8",
   "metadata": {},
   "outputs": [],
   "source": [
    "#based on the previously discovered relation between the indicies and the days of the week \n",
    "sat = 6\n",
    "#filter the dataframe based on things happening only on Weds\n",
    "sat_shopping = df_orders[df_orders['order_dow'] == sat]\n",
    "\n",
    "#plotting the histogram\n",
    "plt.hist(sat_shopping['order_hour_of_day'], bins=24, edgecolor='black')\n",
    "plt.title('Saturday Dsitribution'.format(sat))\n",
    "plt.show()"
   ]
  },
  {
   "cell_type": "code",
   "execution_count": null,
   "id": "35bcea30",
   "metadata": {},
   "outputs": [],
   "source": [
    "weds_shopping['order_hour_of_day'].plot(kind='hist',bins=24)\n",
    "sat_shopping['order_hour_of_day'].plot(kind='hist',bins=24,alpha=0.5)\n",
    "plt.legend([\"Wednesday\",\"Saturday\"])\n",
    "plt.show()"
   ]
  },
  {
   "cell_type": "markdown",
   "id": "charitable-congo",
   "metadata": {},
   "source": []
  },
  {
   "cell_type": "markdown",
   "id": "e3891143",
   "metadata": {},
   "source": [
    "### [B2] What's the distribution for the number of orders per customer?"
   ]
  },
  {
   "cell_type": "code",
   "execution_count": null,
   "id": "d8c26c23",
   "metadata": {},
   "outputs": [],
   "source": [
    "orders_per_user = df_orders.groupby('user_id')['order_id'].count()"
   ]
  },
  {
   "cell_type": "code",
   "execution_count": null,
   "id": "00e69a66",
   "metadata": {},
   "outputs": [],
   "source": [
    "plt.hist(orders_per_user, bins=24, edgecolor='black')\n",
    "plt.title('Distribution of Number of Orders per Customer')\n",
    "\n",
    "plt.show()"
   ]
  },
  {
   "cell_type": "markdown",
   "id": "d2eff7d5",
   "metadata": {},
   "source": []
  },
  {
   "cell_type": "markdown",
   "id": "54a0319c",
   "metadata": {},
   "source": [
    "### [B3] What are the top 20 popular products (display their id and name)?"
   ]
  },
  {
   "cell_type": "code",
   "execution_count": null,
   "id": "exterior-arizona",
   "metadata": {
    "scrolled": true
   },
   "outputs": [],
   "source": [
    "df_o_products = pd.read_csv('/datasets/order_products.csv',sep=';')\n",
    "display(df_o_products)\n",
    "\n",
    "df_products = pd.read_csv('/datasets/products.csv',sep=';')\n",
    "display(df_products)\n"
   ]
  },
  {
   "cell_type": "code",
   "execution_count": 53,
   "id": "universal-facial",
   "metadata": {},
   "outputs": [
    {
     "data": {
      "image/png": "[encoded data removed]",
      "text/plain": [
       "<Figure size 1000x600 with 1 Axes>"
      ]
     },
     "metadata": {},
     "output_type": "display_data"
    }
   ],
   "source": [
    "#Merge the two dataframes on product id column\n",
    "order_data = pd.merge(df_products,df_o_products, on='product_id')\n",
    "\n",
    "\n",
    "order_data['id_and_name'] = order_data['product_id'].astype(str) + ' - ' + order_data['product_name']\n",
    "counts = order_data['id_and_name'].value_counts()\n",
    "top_20 = counts[:20]\n",
    "plt.figure(figsize=(10, 6))\n",
    "top_20.plot(kind='bar')\n",
    "plt.title('20 Popular Products')\n",
    "plt.xlabel('Product Names')\n",
    "plt.ylabel('Number Purchased')\n",
    "plt.show()"
   ]
  },
  {
   "cell_type": "code",
   "execution_count": null,
   "id": "bbcdd20b",
   "metadata": {},
   "outputs": [],
   "source": []
  },
  {
   "cell_type": "markdown",
   "id": "7df00f47",
   "metadata": {},
   "source": []
  },
  {
   "cell_type": "markdown",
   "id": "gross-theme",
   "metadata": {},
   "source": [
    "# [C] Hard (must complete at least two to pass)"
   ]
  },
  {
   "cell_type": "markdown",
   "id": "romantic-deposit",
   "metadata": {},
   "source": [
    "### [C1] How many items do people typically buy in one order? What does the distribution look like?"
   ]
  },
  {
   "cell_type": "code",
   "execution_count": 47,
   "id": "virtual-punch",
   "metadata": {},
   "outputs": [],
   "source": [
    "#Group by order id and find the max add_to_card_order per group\n",
    "items_per_order = df_o_products.groupby('order_id')['add_to_cart_order'].max()"
   ]
  },
  {
   "cell_type": "code",
   "execution_count": 49,
   "id": "sensitive-breathing",
   "metadata": {},
   "outputs": [
    {
     "data": {
      "image/png": "[encoded data removed]",
      "text/plain": [
       "<Figure size 640x480 with 1 Axes>"
      ]
     },
     "metadata": {},
     "output_type": "display_data"
    }
   ],
   "source": [
    "#plot the data\n",
    "plt.hist(items_per_order, bins=range(1, int(items_per_order.max()) + 2),edgecolor='black')\n",
    "plt.title('Distribution of Items per Order')\n",
    "plt.xlabel('Number of Items')\n",
    "plt.ylabel('Number of Orders')\n",
    "plt.show()"
   ]
  },
  {
   "cell_type": "code",
   "execution_count": null,
   "id": "completed-frank",
   "metadata": {},
   "outputs": [],
   "source": []
  },
  {
   "cell_type": "markdown",
   "id": "designed-mortality",
   "metadata": {},
   "source": []
  },
  {
   "cell_type": "markdown",
   "id": "5e6b5537",
   "metadata": {},
   "source": [
    "### [C2] What are the top 20 items that are reordered most frequently (display their names and product IDs)?"
   ]
  },
  {
   "cell_type": "code",
   "execution_count": 54,
   "id": "9374e55a",
   "metadata": {},
   "outputs": [
    {
     "data": {
      "text/html": [
       "<div>\n",
       "<style scoped>\n",
       "    .dataframe tbody tr th:only-of-type {\n",
       "        vertical-align: middle;\n",
       "    }\n",
       "\n",
       "    .dataframe tbody tr th {\n",
       "        vertical-align: top;\n",
       "    }\n",
       "\n",
       "    .dataframe thead th {\n",
       "        text-align: right;\n",
       "    }\n",
       "</style>\n",
       "<table border=\"1\" class=\"dataframe\">\n",
       "  <thead>\n",
       "    <tr style=\"text-align: right;\">\n",
       "      <th></th>\n",
       "      <th>product_id</th>\n",
       "      <th>product_name</th>\n",
       "      <th>aisle_id</th>\n",
       "      <th>department_id</th>\n",
       "      <th>order_id</th>\n",
       "      <th>add_to_cart_order</th>\n",
       "      <th>reordered</th>\n",
       "      <th>id_and_name</th>\n",
       "    </tr>\n",
       "  </thead>\n",
       "  <tbody>\n",
       "    <tr>\n",
       "      <th>0</th>\n",
       "      <td>1</td>\n",
       "      <td>Chocolate Sandwich Cookies</td>\n",
       "      <td>61</td>\n",
       "      <td>19</td>\n",
       "      <td>1104373</td>\n",
       "      <td>11.0</td>\n",
       "      <td>1</td>\n",
       "      <td>1 - Chocolate Sandwich Cookies</td>\n",
       "    </tr>\n",
       "    <tr>\n",
       "      <th>1</th>\n",
       "      <td>1</td>\n",
       "      <td>Chocolate Sandwich Cookies</td>\n",
       "      <td>61</td>\n",
       "      <td>19</td>\n",
       "      <td>1774977</td>\n",
       "      <td>4.0</td>\n",
       "      <td>1</td>\n",
       "      <td>1 - Chocolate Sandwich Cookies</td>\n",
       "    </tr>\n",
       "    <tr>\n",
       "      <th>2</th>\n",
       "      <td>1</td>\n",
       "      <td>Chocolate Sandwich Cookies</td>\n",
       "      <td>61</td>\n",
       "      <td>19</td>\n",
       "      <td>652770</td>\n",
       "      <td>10.0</td>\n",
       "      <td>0</td>\n",
       "      <td>1 - Chocolate Sandwich Cookies</td>\n",
       "    </tr>\n",
       "    <tr>\n",
       "      <th>3</th>\n",
       "      <td>1</td>\n",
       "      <td>Chocolate Sandwich Cookies</td>\n",
       "      <td>61</td>\n",
       "      <td>19</td>\n",
       "      <td>1000035</td>\n",
       "      <td>6.0</td>\n",
       "      <td>1</td>\n",
       "      <td>1 - Chocolate Sandwich Cookies</td>\n",
       "    </tr>\n",
       "    <tr>\n",
       "      <th>4</th>\n",
       "      <td>1</td>\n",
       "      <td>Chocolate Sandwich Cookies</td>\n",
       "      <td>61</td>\n",
       "      <td>19</td>\n",
       "      <td>1679949</td>\n",
       "      <td>9.0</td>\n",
       "      <td>0</td>\n",
       "      <td>1 - Chocolate Sandwich Cookies</td>\n",
       "    </tr>\n",
       "    <tr>\n",
       "      <th>...</th>\n",
       "      <td>...</td>\n",
       "      <td>...</td>\n",
       "      <td>...</td>\n",
       "      <td>...</td>\n",
       "      <td>...</td>\n",
       "      <td>...</td>\n",
       "      <td>...</td>\n",
       "      <td>...</td>\n",
       "    </tr>\n",
       "    <tr>\n",
       "      <th>4545002</th>\n",
       "      <td>49694</td>\n",
       "      <td>BURRITO- STEAK &amp; CHEESE</td>\n",
       "      <td>38</td>\n",
       "      <td>1</td>\n",
       "      <td>3034802</td>\n",
       "      <td>10.0</td>\n",
       "      <td>0</td>\n",
       "      <td>49694 - BURRITO- STEAK &amp; CHEESE</td>\n",
       "    </tr>\n",
       "    <tr>\n",
       "      <th>4545003</th>\n",
       "      <td>49694</td>\n",
       "      <td>BURRITO- STEAK &amp; CHEESE</td>\n",
       "      <td>38</td>\n",
       "      <td>1</td>\n",
       "      <td>3175081</td>\n",
       "      <td>3.0</td>\n",
       "      <td>0</td>\n",
       "      <td>49694 - BURRITO- STEAK &amp; CHEESE</td>\n",
       "    </tr>\n",
       "    <tr>\n",
       "      <th>4545004</th>\n",
       "      <td>49694</td>\n",
       "      <td>BURRITO- STEAK &amp; CHEESE</td>\n",
       "      <td>38</td>\n",
       "      <td>1</td>\n",
       "      <td>694132</td>\n",
       "      <td>2.0</td>\n",
       "      <td>0</td>\n",
       "      <td>49694 - BURRITO- STEAK &amp; CHEESE</td>\n",
       "    </tr>\n",
       "    <tr>\n",
       "      <th>4545005</th>\n",
       "      <td>49694</td>\n",
       "      <td>BURRITO- STEAK &amp; CHEESE</td>\n",
       "      <td>38</td>\n",
       "      <td>1</td>\n",
       "      <td>2843165</td>\n",
       "      <td>5.0</td>\n",
       "      <td>0</td>\n",
       "      <td>49694 - BURRITO- STEAK &amp; CHEESE</td>\n",
       "    </tr>\n",
       "    <tr>\n",
       "      <th>4545006</th>\n",
       "      <td>49694</td>\n",
       "      <td>BURRITO- STEAK &amp; CHEESE</td>\n",
       "      <td>38</td>\n",
       "      <td>1</td>\n",
       "      <td>2077154</td>\n",
       "      <td>12.0</td>\n",
       "      <td>0</td>\n",
       "      <td>49694 - BURRITO- STEAK &amp; CHEESE</td>\n",
       "    </tr>\n",
       "  </tbody>\n",
       "</table>\n",
       "<p>4545007 rows × 8 columns</p>\n",
       "</div>"
      ],
      "text/plain": [
       "         product_id                product_name  aisle_id  department_id  \\\n",
       "0                 1  Chocolate Sandwich Cookies        61             19   \n",
       "1                 1  Chocolate Sandwich Cookies        61             19   \n",
       "2                 1  Chocolate Sandwich Cookies        61             19   \n",
       "3                 1  Chocolate Sandwich Cookies        61             19   \n",
       "4                 1  Chocolate Sandwich Cookies        61             19   \n",
       "...             ...                         ...       ...            ...   \n",
       "4545002       49694     BURRITO- STEAK & CHEESE        38              1   \n",
       "4545003       49694     BURRITO- STEAK & CHEESE        38              1   \n",
       "4545004       49694     BURRITO- STEAK & CHEESE        38              1   \n",
       "4545005       49694     BURRITO- STEAK & CHEESE        38              1   \n",
       "4545006       49694     BURRITO- STEAK & CHEESE        38              1   \n",
       "\n",
       "         order_id  add_to_cart_order  reordered  \\\n",
       "0         1104373               11.0          1   \n",
       "1         1774977                4.0          1   \n",
       "2          652770               10.0          0   \n",
       "3         1000035                6.0          1   \n",
       "4         1679949                9.0          0   \n",
       "...           ...                ...        ...   \n",
       "4545002   3034802               10.0          0   \n",
       "4545003   3175081                3.0          0   \n",
       "4545004    694132                2.0          0   \n",
       "4545005   2843165                5.0          0   \n",
       "4545006   2077154               12.0          0   \n",
       "\n",
       "                             id_and_name  \n",
       "0         1 - Chocolate Sandwich Cookies  \n",
       "1         1 - Chocolate Sandwich Cookies  \n",
       "2         1 - Chocolate Sandwich Cookies  \n",
       "3         1 - Chocolate Sandwich Cookies  \n",
       "4         1 - Chocolate Sandwich Cookies  \n",
       "...                                  ...  \n",
       "4545002  49694 - BURRITO- STEAK & CHEESE  \n",
       "4545003  49694 - BURRITO- STEAK & CHEESE  \n",
       "4545004  49694 - BURRITO- STEAK & CHEESE  \n",
       "4545005  49694 - BURRITO- STEAK & CHEESE  \n",
       "4545006  49694 - BURRITO- STEAK & CHEESE  \n",
       "\n",
       "[4545007 rows x 8 columns]"
      ]
     },
     "metadata": {},
     "output_type": "display_data"
    }
   ],
   "source": [
    "#created this merged table earlier\n",
    "display(order_data)"
   ]
  },
  {
   "cell_type": "code",
   "execution_count": 57,
   "id": "possible-change",
   "metadata": {
    "scrolled": true
   },
   "outputs": [
    {
     "data": {
      "text/plain": [
       "24852 - Banana                     55763\n",
       "13176 - Bag of Organic Bananas     44450\n",
       "21137 - Organic Strawberries       28639\n",
       "21903 - Organic Baby Spinach       26233\n",
       "47209 - Organic Hass Avocado       23629\n",
       "47766 - Organic Avocado            18743\n",
       "27845 - Organic Whole Milk         16251\n",
       "47626 - Large Lemon                15044\n",
       "27966 - Organic Raspberries        14748\n",
       "16797 - Strawberries               13945\n",
       "26209 - Limes                      13327\n",
       "22935 - Organic Yellow Onion       11145\n",
       "24964 - Organic Garlic             10411\n",
       "45007 - Organic Zucchini           10076\n",
       "49683 - Cucumber Kirby              9538\n",
       "28204 - Organic Fuji Apple          8989\n",
       "8277 - Apple Honeycrisp Organic     8836\n",
       "39275 - Organic Blueberries         8799\n",
       "5876 - Organic Lemon                8412\n",
       "49235 - Organic Half & Half         8389\n",
       "Name: id_and_name, dtype: int64"
      ]
     },
     "metadata": {},
     "output_type": "display_data"
    },
    {
     "data": {
      "image/png": "[encoded data removed]",
      "text/plain": [
       "<Figure size 1000x600 with 1 Axes>"
      ]
     },
     "metadata": {},
     "output_type": "display_data"
    }
   ],
   "source": [
    "#Filter out rows where reordered is 1\n",
    "reordered = order_data[order_data['reordered'] == 1]\n",
    "\n",
    "#counting number of time each product is reordered\n",
    "reordered_count = reordered['id_and_name'].value_counts()\n",
    "\n",
    "#Find the top 20\n",
    "top_20 = reordered_count[:20]\n",
    "plt.figure(figsize=(10,6))\n",
    "top_20.plot(kind='bar')\n",
    "plt.title('Top 20 Reordered')\n",
    "display(top_20)"
   ]
  },
  {
   "cell_type": "code",
   "execution_count": null,
   "id": "professional-surfing",
   "metadata": {
    "scrolled": true
   },
   "outputs": [],
   "source": []
  },
  {
   "cell_type": "code",
   "execution_count": null,
   "id": "48dd3658",
   "metadata": {},
   "outputs": [],
   "source": []
  },
  {
   "cell_type": "markdown",
   "id": "80e70c74",
   "metadata": {},
   "source": []
  },
  {
   "cell_type": "markdown",
   "id": "9d312b14",
   "metadata": {},
   "source": [
    "### [C3] For each product, what proportion of its orders are reorders?"
   ]
  },
  {
   "cell_type": "code",
   "execution_count": 59,
   "id": "8ae9f4b1",
   "metadata": {},
   "outputs": [
    {
     "data": {
      "text/html": [
       "<div>\n",
       "<style scoped>\n",
       "    .dataframe tbody tr th:only-of-type {\n",
       "        vertical-align: middle;\n",
       "    }\n",
       "\n",
       "    .dataframe tbody tr th {\n",
       "        vertical-align: top;\n",
       "    }\n",
       "\n",
       "    .dataframe thead th {\n",
       "        text-align: right;\n",
       "    }\n",
       "</style>\n",
       "<table border=\"1\" class=\"dataframe\">\n",
       "  <thead>\n",
       "    <tr style=\"text-align: right;\">\n",
       "      <th></th>\n",
       "      <th>product_id</th>\n",
       "      <th>product_name</th>\n",
       "      <th>aisle_id</th>\n",
       "      <th>department_id</th>\n",
       "      <th>order_id</th>\n",
       "      <th>add_to_cart_order</th>\n",
       "      <th>reordered</th>\n",
       "      <th>id_and_name</th>\n",
       "    </tr>\n",
       "  </thead>\n",
       "  <tbody>\n",
       "    <tr>\n",
       "      <th>0</th>\n",
       "      <td>1</td>\n",
       "      <td>Chocolate Sandwich Cookies</td>\n",
       "      <td>61</td>\n",
       "      <td>19</td>\n",
       "      <td>1104373</td>\n",
       "      <td>11.0</td>\n",
       "      <td>1</td>\n",
       "      <td>1 - Chocolate Sandwich Cookies</td>\n",
       "    </tr>\n",
       "    <tr>\n",
       "      <th>1</th>\n",
       "      <td>1</td>\n",
       "      <td>Chocolate Sandwich Cookies</td>\n",
       "      <td>61</td>\n",
       "      <td>19</td>\n",
       "      <td>1774977</td>\n",
       "      <td>4.0</td>\n",
       "      <td>1</td>\n",
       "      <td>1 - Chocolate Sandwich Cookies</td>\n",
       "    </tr>\n",
       "    <tr>\n",
       "      <th>2</th>\n",
       "      <td>1</td>\n",
       "      <td>Chocolate Sandwich Cookies</td>\n",
       "      <td>61</td>\n",
       "      <td>19</td>\n",
       "      <td>652770</td>\n",
       "      <td>10.0</td>\n",
       "      <td>0</td>\n",
       "      <td>1 - Chocolate Sandwich Cookies</td>\n",
       "    </tr>\n",
       "    <tr>\n",
       "      <th>3</th>\n",
       "      <td>1</td>\n",
       "      <td>Chocolate Sandwich Cookies</td>\n",
       "      <td>61</td>\n",
       "      <td>19</td>\n",
       "      <td>1000035</td>\n",
       "      <td>6.0</td>\n",
       "      <td>1</td>\n",
       "      <td>1 - Chocolate Sandwich Cookies</td>\n",
       "    </tr>\n",
       "    <tr>\n",
       "      <th>4</th>\n",
       "      <td>1</td>\n",
       "      <td>Chocolate Sandwich Cookies</td>\n",
       "      <td>61</td>\n",
       "      <td>19</td>\n",
       "      <td>1679949</td>\n",
       "      <td>9.0</td>\n",
       "      <td>0</td>\n",
       "      <td>1 - Chocolate Sandwich Cookies</td>\n",
       "    </tr>\n",
       "    <tr>\n",
       "      <th>...</th>\n",
       "      <td>...</td>\n",
       "      <td>...</td>\n",
       "      <td>...</td>\n",
       "      <td>...</td>\n",
       "      <td>...</td>\n",
       "      <td>...</td>\n",
       "      <td>...</td>\n",
       "      <td>...</td>\n",
       "    </tr>\n",
       "    <tr>\n",
       "      <th>4545002</th>\n",
       "      <td>49694</td>\n",
       "      <td>BURRITO- STEAK &amp; CHEESE</td>\n",
       "      <td>38</td>\n",
       "      <td>1</td>\n",
       "      <td>3034802</td>\n",
       "      <td>10.0</td>\n",
       "      <td>0</td>\n",
       "      <td>49694 - BURRITO- STEAK &amp; CHEESE</td>\n",
       "    </tr>\n",
       "    <tr>\n",
       "      <th>4545003</th>\n",
       "      <td>49694</td>\n",
       "      <td>BURRITO- STEAK &amp; CHEESE</td>\n",
       "      <td>38</td>\n",
       "      <td>1</td>\n",
       "      <td>3175081</td>\n",
       "      <td>3.0</td>\n",
       "      <td>0</td>\n",
       "      <td>49694 - BURRITO- STEAK &amp; CHEESE</td>\n",
       "    </tr>\n",
       "    <tr>\n",
       "      <th>4545004</th>\n",
       "      <td>49694</td>\n",
       "      <td>BURRITO- STEAK &amp; CHEESE</td>\n",
       "      <td>38</td>\n",
       "      <td>1</td>\n",
       "      <td>694132</td>\n",
       "      <td>2.0</td>\n",
       "      <td>0</td>\n",
       "      <td>49694 - BURRITO- STEAK &amp; CHEESE</td>\n",
       "    </tr>\n",
       "    <tr>\n",
       "      <th>4545005</th>\n",
       "      <td>49694</td>\n",
       "      <td>BURRITO- STEAK &amp; CHEESE</td>\n",
       "      <td>38</td>\n",
       "      <td>1</td>\n",
       "      <td>2843165</td>\n",
       "      <td>5.0</td>\n",
       "      <td>0</td>\n",
       "      <td>49694 - BURRITO- STEAK &amp; CHEESE</td>\n",
       "    </tr>\n",
       "    <tr>\n",
       "      <th>4545006</th>\n",
       "      <td>49694</td>\n",
       "      <td>BURRITO- STEAK &amp; CHEESE</td>\n",
       "      <td>38</td>\n",
       "      <td>1</td>\n",
       "      <td>2077154</td>\n",
       "      <td>12.0</td>\n",
       "      <td>0</td>\n",
       "      <td>49694 - BURRITO- STEAK &amp; CHEESE</td>\n",
       "    </tr>\n",
       "  </tbody>\n",
       "</table>\n",
       "<p>4545007 rows × 8 columns</p>\n",
       "</div>"
      ],
      "text/plain": [
       "         product_id                product_name  aisle_id  department_id  \\\n",
       "0                 1  Chocolate Sandwich Cookies        61             19   \n",
       "1                 1  Chocolate Sandwich Cookies        61             19   \n",
       "2                 1  Chocolate Sandwich Cookies        61             19   \n",
       "3                 1  Chocolate Sandwich Cookies        61             19   \n",
       "4                 1  Chocolate Sandwich Cookies        61             19   \n",
       "...             ...                         ...       ...            ...   \n",
       "4545002       49694     BURRITO- STEAK & CHEESE        38              1   \n",
       "4545003       49694     BURRITO- STEAK & CHEESE        38              1   \n",
       "4545004       49694     BURRITO- STEAK & CHEESE        38              1   \n",
       "4545005       49694     BURRITO- STEAK & CHEESE        38              1   \n",
       "4545006       49694     BURRITO- STEAK & CHEESE        38              1   \n",
       "\n",
       "         order_id  add_to_cart_order  reordered  \\\n",
       "0         1104373               11.0          1   \n",
       "1         1774977                4.0          1   \n",
       "2          652770               10.0          0   \n",
       "3         1000035                6.0          1   \n",
       "4         1679949                9.0          0   \n",
       "...           ...                ...        ...   \n",
       "4545002   3034802               10.0          0   \n",
       "4545003   3175081                3.0          0   \n",
       "4545004    694132                2.0          0   \n",
       "4545005   2843165                5.0          0   \n",
       "4545006   2077154               12.0          0   \n",
       "\n",
       "                             id_and_name  \n",
       "0         1 - Chocolate Sandwich Cookies  \n",
       "1         1 - Chocolate Sandwich Cookies  \n",
       "2         1 - Chocolate Sandwich Cookies  \n",
       "3         1 - Chocolate Sandwich Cookies  \n",
       "4         1 - Chocolate Sandwich Cookies  \n",
       "...                                  ...  \n",
       "4545002  49694 - BURRITO- STEAK & CHEESE  \n",
       "4545003  49694 - BURRITO- STEAK & CHEESE  \n",
       "4545004  49694 - BURRITO- STEAK & CHEESE  \n",
       "4545005  49694 - BURRITO- STEAK & CHEESE  \n",
       "4545006  49694 - BURRITO- STEAK & CHEESE  \n",
       "\n",
       "[4545007 rows x 8 columns]"
      ]
     },
     "metadata": {},
     "output_type": "display_data"
    }
   ],
   "source": [
    "display(order_data)"
   ]
  },
  {
   "cell_type": "code",
   "execution_count": 60,
   "id": "103e7fe1",
   "metadata": {},
   "outputs": [],
   "source": [
    "#grouping data by product id\n",
    "grouped = order_data.groupby('product_id')['reordered'].agg(['sum', 'count'])"
   ]
  },
  {
   "cell_type": "code",
   "execution_count": 61,
   "id": "social-individual",
   "metadata": {},
   "outputs": [
    {
     "data": {
      "text/plain": [
       "product_id\n",
       "1        0.564286\n",
       "2        0.000000\n",
       "3        0.738095\n",
       "4        0.510204\n",
       "7        0.500000\n",
       "           ...   \n",
       "49690    0.800000\n",
       "49691    0.430556\n",
       "49692    0.416667\n",
       "49693    0.440000\n",
       "49694    0.333333\n",
       "Name: reorder_proportion, Length: 45573, dtype: float64"
      ]
     },
     "metadata": {},
     "output_type": "display_data"
    }
   ],
   "source": [
    "#calculating the portion of reorders per product\n",
    "grouped['reorder_proportion'] = grouped['sum'] / grouped['count']\n",
    "display(grouped['reorder_proportion'])"
   ]
  },
  {
   "cell_type": "markdown",
   "id": "subject-boxing",
   "metadata": {},
   "source": [
    "### [C4] For each customer, what proportion of their products ordered are reorders?"
   ]
  },
  {
   "cell_type": "code",
   "execution_count": 66,
   "id": "medical-couple",
   "metadata": {
    "scrolled": true
   },
   "outputs": [
    {
     "data": {
      "text/html": [
       "<div>\n",
       "<style scoped>\n",
       "    .dataframe tbody tr th:only-of-type {\n",
       "        vertical-align: middle;\n",
       "    }\n",
       "\n",
       "    .dataframe tbody tr th {\n",
       "        vertical-align: top;\n",
       "    }\n",
       "\n",
       "    .dataframe thead th {\n",
       "        text-align: right;\n",
       "    }\n",
       "</style>\n",
       "<table border=\"1\" class=\"dataframe\">\n",
       "  <thead>\n",
       "    <tr style=\"text-align: right;\">\n",
       "      <th></th>\n",
       "      <th>order_id</th>\n",
       "      <th>user_id</th>\n",
       "      <th>order_number</th>\n",
       "      <th>order_dow</th>\n",
       "      <th>order_hour_of_day</th>\n",
       "      <th>days_since_prior_order</th>\n",
       "    </tr>\n",
       "  </thead>\n",
       "  <tbody>\n",
       "    <tr>\n",
       "      <th>0</th>\n",
       "      <td>1515936</td>\n",
       "      <td>183418</td>\n",
       "      <td>11</td>\n",
       "      <td>6</td>\n",
       "      <td>13</td>\n",
       "      <td>30.0</td>\n",
       "    </tr>\n",
       "    <tr>\n",
       "      <th>1</th>\n",
       "      <td>1690866</td>\n",
       "      <td>163593</td>\n",
       "      <td>5</td>\n",
       "      <td>5</td>\n",
       "      <td>12</td>\n",
       "      <td>9.0</td>\n",
       "    </tr>\n",
       "    <tr>\n",
       "      <th>2</th>\n",
       "      <td>1454967</td>\n",
       "      <td>39980</td>\n",
       "      <td>4</td>\n",
       "      <td>5</td>\n",
       "      <td>19</td>\n",
       "      <td>2.0</td>\n",
       "    </tr>\n",
       "    <tr>\n",
       "      <th>3</th>\n",
       "      <td>1768857</td>\n",
       "      <td>82516</td>\n",
       "      <td>56</td>\n",
       "      <td>0</td>\n",
       "      <td>20</td>\n",
       "      <td>10.0</td>\n",
       "    </tr>\n",
       "    <tr>\n",
       "      <th>4</th>\n",
       "      <td>3007858</td>\n",
       "      <td>196724</td>\n",
       "      <td>2</td>\n",
       "      <td>4</td>\n",
       "      <td>12</td>\n",
       "      <td>17.0</td>\n",
       "    </tr>\n",
       "    <tr>\n",
       "      <th>...</th>\n",
       "      <td>...</td>\n",
       "      <td>...</td>\n",
       "      <td>...</td>\n",
       "      <td>...</td>\n",
       "      <td>...</td>\n",
       "      <td>...</td>\n",
       "    </tr>\n",
       "    <tr>\n",
       "      <th>478962</th>\n",
       "      <td>3210681</td>\n",
       "      <td>5617</td>\n",
       "      <td>5</td>\n",
       "      <td>1</td>\n",
       "      <td>14</td>\n",
       "      <td>7.0</td>\n",
       "    </tr>\n",
       "    <tr>\n",
       "      <th>478963</th>\n",
       "      <td>3270802</td>\n",
       "      <td>112087</td>\n",
       "      <td>2</td>\n",
       "      <td>3</td>\n",
       "      <td>13</td>\n",
       "      <td>6.0</td>\n",
       "    </tr>\n",
       "    <tr>\n",
       "      <th>478964</th>\n",
       "      <td>885349</td>\n",
       "      <td>82944</td>\n",
       "      <td>16</td>\n",
       "      <td>2</td>\n",
       "      <td>11</td>\n",
       "      <td>6.0</td>\n",
       "    </tr>\n",
       "    <tr>\n",
       "      <th>478965</th>\n",
       "      <td>216274</td>\n",
       "      <td>4391</td>\n",
       "      <td>3</td>\n",
       "      <td>3</td>\n",
       "      <td>8</td>\n",
       "      <td>8.0</td>\n",
       "    </tr>\n",
       "    <tr>\n",
       "      <th>478966</th>\n",
       "      <td>2071924</td>\n",
       "      <td>1730</td>\n",
       "      <td>18</td>\n",
       "      <td>1</td>\n",
       "      <td>14</td>\n",
       "      <td>15.0</td>\n",
       "    </tr>\n",
       "  </tbody>\n",
       "</table>\n",
       "<p>478967 rows × 6 columns</p>\n",
       "</div>"
      ],
      "text/plain": [
       "        order_id  user_id  order_number  order_dow  order_hour_of_day  \\\n",
       "0        1515936   183418            11          6                 13   \n",
       "1        1690866   163593             5          5                 12   \n",
       "2        1454967    39980             4          5                 19   \n",
       "3        1768857    82516            56          0                 20   \n",
       "4        3007858   196724             2          4                 12   \n",
       "...          ...      ...           ...        ...                ...   \n",
       "478962   3210681     5617             5          1                 14   \n",
       "478963   3270802   112087             2          3                 13   \n",
       "478964    885349    82944            16          2                 11   \n",
       "478965    216274     4391             3          3                  8   \n",
       "478966   2071924     1730            18          1                 14   \n",
       "\n",
       "        days_since_prior_order  \n",
       "0                         30.0  \n",
       "1                          9.0  \n",
       "2                          2.0  \n",
       "3                         10.0  \n",
       "4                         17.0  \n",
       "...                        ...  \n",
       "478962                     7.0  \n",
       "478963                     6.0  \n",
       "478964                     6.0  \n",
       "478965                     8.0  \n",
       "478966                    15.0  \n",
       "\n",
       "[478967 rows x 6 columns]"
      ]
     },
     "metadata": {},
     "output_type": "display_data"
    },
    {
     "data": {
      "text/html": [
       "<div>\n",
       "<style scoped>\n",
       "    .dataframe tbody tr th:only-of-type {\n",
       "        vertical-align: middle;\n",
       "    }\n",
       "\n",
       "    .dataframe tbody tr th {\n",
       "        vertical-align: top;\n",
       "    }\n",
       "\n",
       "    .dataframe thead th {\n",
       "        text-align: right;\n",
       "    }\n",
       "</style>\n",
       "<table border=\"1\" class=\"dataframe\">\n",
       "  <thead>\n",
       "    <tr style=\"text-align: right;\">\n",
       "      <th></th>\n",
       "      <th>product_id</th>\n",
       "      <th>product_name</th>\n",
       "      <th>aisle_id</th>\n",
       "      <th>department_id</th>\n",
       "      <th>order_id</th>\n",
       "      <th>add_to_cart_order</th>\n",
       "      <th>reordered</th>\n",
       "      <th>id_and_name</th>\n",
       "    </tr>\n",
       "  </thead>\n",
       "  <tbody>\n",
       "    <tr>\n",
       "      <th>0</th>\n",
       "      <td>1</td>\n",
       "      <td>Chocolate Sandwich Cookies</td>\n",
       "      <td>61</td>\n",
       "      <td>19</td>\n",
       "      <td>1104373</td>\n",
       "      <td>11.0</td>\n",
       "      <td>1</td>\n",
       "      <td>1 - Chocolate Sandwich Cookies</td>\n",
       "    </tr>\n",
       "    <tr>\n",
       "      <th>1</th>\n",
       "      <td>1</td>\n",
       "      <td>Chocolate Sandwich Cookies</td>\n",
       "      <td>61</td>\n",
       "      <td>19</td>\n",
       "      <td>1774977</td>\n",
       "      <td>4.0</td>\n",
       "      <td>1</td>\n",
       "      <td>1 - Chocolate Sandwich Cookies</td>\n",
       "    </tr>\n",
       "    <tr>\n",
       "      <th>2</th>\n",
       "      <td>1</td>\n",
       "      <td>Chocolate Sandwich Cookies</td>\n",
       "      <td>61</td>\n",
       "      <td>19</td>\n",
       "      <td>652770</td>\n",
       "      <td>10.0</td>\n",
       "      <td>0</td>\n",
       "      <td>1 - Chocolate Sandwich Cookies</td>\n",
       "    </tr>\n",
       "    <tr>\n",
       "      <th>3</th>\n",
       "      <td>1</td>\n",
       "      <td>Chocolate Sandwich Cookies</td>\n",
       "      <td>61</td>\n",
       "      <td>19</td>\n",
       "      <td>1000035</td>\n",
       "      <td>6.0</td>\n",
       "      <td>1</td>\n",
       "      <td>1 - Chocolate Sandwich Cookies</td>\n",
       "    </tr>\n",
       "    <tr>\n",
       "      <th>4</th>\n",
       "      <td>1</td>\n",
       "      <td>Chocolate Sandwich Cookies</td>\n",
       "      <td>61</td>\n",
       "      <td>19</td>\n",
       "      <td>1679949</td>\n",
       "      <td>9.0</td>\n",
       "      <td>0</td>\n",
       "      <td>1 - Chocolate Sandwich Cookies</td>\n",
       "    </tr>\n",
       "    <tr>\n",
       "      <th>...</th>\n",
       "      <td>...</td>\n",
       "      <td>...</td>\n",
       "      <td>...</td>\n",
       "      <td>...</td>\n",
       "      <td>...</td>\n",
       "      <td>...</td>\n",
       "      <td>...</td>\n",
       "      <td>...</td>\n",
       "    </tr>\n",
       "    <tr>\n",
       "      <th>4545002</th>\n",
       "      <td>49694</td>\n",
       "      <td>BURRITO- STEAK &amp; CHEESE</td>\n",
       "      <td>38</td>\n",
       "      <td>1</td>\n",
       "      <td>3034802</td>\n",
       "      <td>10.0</td>\n",
       "      <td>0</td>\n",
       "      <td>49694 - BURRITO- STEAK &amp; CHEESE</td>\n",
       "    </tr>\n",
       "    <tr>\n",
       "      <th>4545003</th>\n",
       "      <td>49694</td>\n",
       "      <td>BURRITO- STEAK &amp; CHEESE</td>\n",
       "      <td>38</td>\n",
       "      <td>1</td>\n",
       "      <td>3175081</td>\n",
       "      <td>3.0</td>\n",
       "      <td>0</td>\n",
       "      <td>49694 - BURRITO- STEAK &amp; CHEESE</td>\n",
       "    </tr>\n",
       "    <tr>\n",
       "      <th>4545004</th>\n",
       "      <td>49694</td>\n",
       "      <td>BURRITO- STEAK &amp; CHEESE</td>\n",
       "      <td>38</td>\n",
       "      <td>1</td>\n",
       "      <td>694132</td>\n",
       "      <td>2.0</td>\n",
       "      <td>0</td>\n",
       "      <td>49694 - BURRITO- STEAK &amp; CHEESE</td>\n",
       "    </tr>\n",
       "    <tr>\n",
       "      <th>4545005</th>\n",
       "      <td>49694</td>\n",
       "      <td>BURRITO- STEAK &amp; CHEESE</td>\n",
       "      <td>38</td>\n",
       "      <td>1</td>\n",
       "      <td>2843165</td>\n",
       "      <td>5.0</td>\n",
       "      <td>0</td>\n",
       "      <td>49694 - BURRITO- STEAK &amp; CHEESE</td>\n",
       "    </tr>\n",
       "    <tr>\n",
       "      <th>4545006</th>\n",
       "      <td>49694</td>\n",
       "      <td>BURRITO- STEAK &amp; CHEESE</td>\n",
       "      <td>38</td>\n",
       "      <td>1</td>\n",
       "      <td>2077154</td>\n",
       "      <td>12.0</td>\n",
       "      <td>0</td>\n",
       "      <td>49694 - BURRITO- STEAK &amp; CHEESE</td>\n",
       "    </tr>\n",
       "  </tbody>\n",
       "</table>\n",
       "<p>4545007 rows × 8 columns</p>\n",
       "</div>"
      ],
      "text/plain": [
       "         product_id                product_name  aisle_id  department_id  \\\n",
       "0                 1  Chocolate Sandwich Cookies        61             19   \n",
       "1                 1  Chocolate Sandwich Cookies        61             19   \n",
       "2                 1  Chocolate Sandwich Cookies        61             19   \n",
       "3                 1  Chocolate Sandwich Cookies        61             19   \n",
       "4                 1  Chocolate Sandwich Cookies        61             19   \n",
       "...             ...                         ...       ...            ...   \n",
       "4545002       49694     BURRITO- STEAK & CHEESE        38              1   \n",
       "4545003       49694     BURRITO- STEAK & CHEESE        38              1   \n",
       "4545004       49694     BURRITO- STEAK & CHEESE        38              1   \n",
       "4545005       49694     BURRITO- STEAK & CHEESE        38              1   \n",
       "4545006       49694     BURRITO- STEAK & CHEESE        38              1   \n",
       "\n",
       "         order_id  add_to_cart_order  reordered  \\\n",
       "0         1104373               11.0          1   \n",
       "1         1774977                4.0          1   \n",
       "2          652770               10.0          0   \n",
       "3         1000035                6.0          1   \n",
       "4         1679949                9.0          0   \n",
       "...           ...                ...        ...   \n",
       "4545002   3034802               10.0          0   \n",
       "4545003   3175081                3.0          0   \n",
       "4545004    694132                2.0          0   \n",
       "4545005   2843165                5.0          0   \n",
       "4545006   2077154               12.0          0   \n",
       "\n",
       "                             id_and_name  \n",
       "0         1 - Chocolate Sandwich Cookies  \n",
       "1         1 - Chocolate Sandwich Cookies  \n",
       "2         1 - Chocolate Sandwich Cookies  \n",
       "3         1 - Chocolate Sandwich Cookies  \n",
       "4         1 - Chocolate Sandwich Cookies  \n",
       "...                                  ...  \n",
       "4545002  49694 - BURRITO- STEAK & CHEESE  \n",
       "4545003  49694 - BURRITO- STEAK & CHEESE  \n",
       "4545004  49694 - BURRITO- STEAK & CHEESE  \n",
       "4545005  49694 - BURRITO- STEAK & CHEESE  \n",
       "4545006  49694 - BURRITO- STEAK & CHEESE  \n",
       "\n",
       "[4545007 rows x 8 columns]"
      ]
     },
     "metadata": {},
     "output_type": "display_data"
    }
   ],
   "source": [
    "#These are the two dataframes I'll be using to answer this\n",
    "\n",
    "display(df_orders)\n",
    "display(order_data)"
   ]
  },
  {
   "cell_type": "code",
   "execution_count": 69,
   "id": "8892e4b4",
   "metadata": {},
   "outputs": [
    {
     "data": {
      "text/plain": [
       "user_id\n",
       "2         0.038462\n",
       "4         0.000000\n",
       "5         0.666667\n",
       "6         0.000000\n",
       "7         0.928571\n",
       "            ...   \n",
       "206203    0.222222\n",
       "206206    0.714286\n",
       "206207    0.891304\n",
       "206208    0.696000\n",
       "206209    0.320000\n",
       "Name: reorder_proportion, Length: 149626, dtype: float64"
      ]
     },
     "metadata": {},
     "output_type": "display_data"
    }
   ],
   "source": [
    "#First merging the two dataframes\n",
    "merged_odata = pd.merge(df_orders, order_data, on='order_id')\n",
    "#Then group the merged dataframe by user_id and calculate the sum + count of reordered\n",
    "group = merged_odata.groupby('user_id')['reordered'].agg(['sum', 'count'])\n",
    "\n",
    "#calculating the portion of reorders per customer\n",
    "group['reorder_proportion'] = group['sum']/group['count']\n",
    "display(group['reorder_proportion'])"
   ]
  },
  {
   "cell_type": "markdown",
   "id": "92d35137",
   "metadata": {},
   "source": [
    "### [C5] What are the top 20 items that people put in their carts first? "
   ]
  },
  {
   "cell_type": "code",
   "execution_count": 71,
   "id": "0ae57274",
   "metadata": {
    "scrolled": true
   },
   "outputs": [
    {
     "data": {
      "text/html": [
       "<div>\n",
       "<style scoped>\n",
       "    .dataframe tbody tr th:only-of-type {\n",
       "        vertical-align: middle;\n",
       "    }\n",
       "\n",
       "    .dataframe tbody tr th {\n",
       "        vertical-align: top;\n",
       "    }\n",
       "\n",
       "    .dataframe thead th {\n",
       "        text-align: right;\n",
       "    }\n",
       "</style>\n",
       "<table border=\"1\" class=\"dataframe\">\n",
       "  <thead>\n",
       "    <tr style=\"text-align: right;\">\n",
       "      <th></th>\n",
       "      <th>product_id</th>\n",
       "      <th>product_name</th>\n",
       "      <th>aisle_id</th>\n",
       "      <th>department_id</th>\n",
       "      <th>order_id</th>\n",
       "      <th>add_to_cart_order</th>\n",
       "      <th>reordered</th>\n",
       "      <th>id_and_name</th>\n",
       "    </tr>\n",
       "  </thead>\n",
       "  <tbody>\n",
       "    <tr>\n",
       "      <th>0</th>\n",
       "      <td>1</td>\n",
       "      <td>Chocolate Sandwich Cookies</td>\n",
       "      <td>61</td>\n",
       "      <td>19</td>\n",
       "      <td>1104373</td>\n",
       "      <td>11.0</td>\n",
       "      <td>1</td>\n",
       "      <td>1 - Chocolate Sandwich Cookies</td>\n",
       "    </tr>\n",
       "    <tr>\n",
       "      <th>1</th>\n",
       "      <td>1</td>\n",
       "      <td>Chocolate Sandwich Cookies</td>\n",
       "      <td>61</td>\n",
       "      <td>19</td>\n",
       "      <td>1774977</td>\n",
       "      <td>4.0</td>\n",
       "      <td>1</td>\n",
       "      <td>1 - Chocolate Sandwich Cookies</td>\n",
       "    </tr>\n",
       "    <tr>\n",
       "      <th>2</th>\n",
       "      <td>1</td>\n",
       "      <td>Chocolate Sandwich Cookies</td>\n",
       "      <td>61</td>\n",
       "      <td>19</td>\n",
       "      <td>652770</td>\n",
       "      <td>10.0</td>\n",
       "      <td>0</td>\n",
       "      <td>1 - Chocolate Sandwich Cookies</td>\n",
       "    </tr>\n",
       "    <tr>\n",
       "      <th>3</th>\n",
       "      <td>1</td>\n",
       "      <td>Chocolate Sandwich Cookies</td>\n",
       "      <td>61</td>\n",
       "      <td>19</td>\n",
       "      <td>1000035</td>\n",
       "      <td>6.0</td>\n",
       "      <td>1</td>\n",
       "      <td>1 - Chocolate Sandwich Cookies</td>\n",
       "    </tr>\n",
       "    <tr>\n",
       "      <th>4</th>\n",
       "      <td>1</td>\n",
       "      <td>Chocolate Sandwich Cookies</td>\n",
       "      <td>61</td>\n",
       "      <td>19</td>\n",
       "      <td>1679949</td>\n",
       "      <td>9.0</td>\n",
       "      <td>0</td>\n",
       "      <td>1 - Chocolate Sandwich Cookies</td>\n",
       "    </tr>\n",
       "    <tr>\n",
       "      <th>...</th>\n",
       "      <td>...</td>\n",
       "      <td>...</td>\n",
       "      <td>...</td>\n",
       "      <td>...</td>\n",
       "      <td>...</td>\n",
       "      <td>...</td>\n",
       "      <td>...</td>\n",
       "      <td>...</td>\n",
       "    </tr>\n",
       "    <tr>\n",
       "      <th>4545002</th>\n",
       "      <td>49694</td>\n",
       "      <td>BURRITO- STEAK &amp; CHEESE</td>\n",
       "      <td>38</td>\n",
       "      <td>1</td>\n",
       "      <td>3034802</td>\n",
       "      <td>10.0</td>\n",
       "      <td>0</td>\n",
       "      <td>49694 - BURRITO- STEAK &amp; CHEESE</td>\n",
       "    </tr>\n",
       "    <tr>\n",
       "      <th>4545003</th>\n",
       "      <td>49694</td>\n",
       "      <td>BURRITO- STEAK &amp; CHEESE</td>\n",
       "      <td>38</td>\n",
       "      <td>1</td>\n",
       "      <td>3175081</td>\n",
       "      <td>3.0</td>\n",
       "      <td>0</td>\n",
       "      <td>49694 - BURRITO- STEAK &amp; CHEESE</td>\n",
       "    </tr>\n",
       "    <tr>\n",
       "      <th>4545004</th>\n",
       "      <td>49694</td>\n",
       "      <td>BURRITO- STEAK &amp; CHEESE</td>\n",
       "      <td>38</td>\n",
       "      <td>1</td>\n",
       "      <td>694132</td>\n",
       "      <td>2.0</td>\n",
       "      <td>0</td>\n",
       "      <td>49694 - BURRITO- STEAK &amp; CHEESE</td>\n",
       "    </tr>\n",
       "    <tr>\n",
       "      <th>4545005</th>\n",
       "      <td>49694</td>\n",
       "      <td>BURRITO- STEAK &amp; CHEESE</td>\n",
       "      <td>38</td>\n",
       "      <td>1</td>\n",
       "      <td>2843165</td>\n",
       "      <td>5.0</td>\n",
       "      <td>0</td>\n",
       "      <td>49694 - BURRITO- STEAK &amp; CHEESE</td>\n",
       "    </tr>\n",
       "    <tr>\n",
       "      <th>4545006</th>\n",
       "      <td>49694</td>\n",
       "      <td>BURRITO- STEAK &amp; CHEESE</td>\n",
       "      <td>38</td>\n",
       "      <td>1</td>\n",
       "      <td>2077154</td>\n",
       "      <td>12.0</td>\n",
       "      <td>0</td>\n",
       "      <td>49694 - BURRITO- STEAK &amp; CHEESE</td>\n",
       "    </tr>\n",
       "  </tbody>\n",
       "</table>\n",
       "<p>4545007 rows × 8 columns</p>\n",
       "</div>"
      ],
      "text/plain": [
       "         product_id                product_name  aisle_id  department_id  \\\n",
       "0                 1  Chocolate Sandwich Cookies        61             19   \n",
       "1                 1  Chocolate Sandwich Cookies        61             19   \n",
       "2                 1  Chocolate Sandwich Cookies        61             19   \n",
       "3                 1  Chocolate Sandwich Cookies        61             19   \n",
       "4                 1  Chocolate Sandwich Cookies        61             19   \n",
       "...             ...                         ...       ...            ...   \n",
       "4545002       49694     BURRITO- STEAK & CHEESE        38              1   \n",
       "4545003       49694     BURRITO- STEAK & CHEESE        38              1   \n",
       "4545004       49694     BURRITO- STEAK & CHEESE        38              1   \n",
       "4545005       49694     BURRITO- STEAK & CHEESE        38              1   \n",
       "4545006       49694     BURRITO- STEAK & CHEESE        38              1   \n",
       "\n",
       "         order_id  add_to_cart_order  reordered  \\\n",
       "0         1104373               11.0          1   \n",
       "1         1774977                4.0          1   \n",
       "2          652770               10.0          0   \n",
       "3         1000035                6.0          1   \n",
       "4         1679949                9.0          0   \n",
       "...           ...                ...        ...   \n",
       "4545002   3034802               10.0          0   \n",
       "4545003   3175081                3.0          0   \n",
       "4545004    694132                2.0          0   \n",
       "4545005   2843165                5.0          0   \n",
       "4545006   2077154               12.0          0   \n",
       "\n",
       "                             id_and_name  \n",
       "0         1 - Chocolate Sandwich Cookies  \n",
       "1         1 - Chocolate Sandwich Cookies  \n",
       "2         1 - Chocolate Sandwich Cookies  \n",
       "3         1 - Chocolate Sandwich Cookies  \n",
       "4         1 - Chocolate Sandwich Cookies  \n",
       "...                                  ...  \n",
       "4545002  49694 - BURRITO- STEAK & CHEESE  \n",
       "4545003  49694 - BURRITO- STEAK & CHEESE  \n",
       "4545004  49694 - BURRITO- STEAK & CHEESE  \n",
       "4545005  49694 - BURRITO- STEAK & CHEESE  \n",
       "4545006  49694 - BURRITO- STEAK & CHEESE  \n",
       "\n",
       "[4545007 rows x 8 columns]"
      ]
     },
     "metadata": {},
     "output_type": "display_data"
    }
   ],
   "source": [
    "#dataframe I'll be using\n",
    "display(order_data)"
   ]
  },
  {
   "cell_type": "code",
   "execution_count": 75,
   "id": "forty-netherlands",
   "metadata": {
    "scrolled": true
   },
   "outputs": [
    {
     "data": {
      "text/plain": [
       "Banana                         15562\n",
       "Bag of Organic Bananas         11026\n",
       "Organic Whole Milk              4363\n",
       "Organic Strawberries            3946\n",
       "Organic Hass Avocado            3390\n",
       "Organic Baby Spinach            3336\n",
       "Organic Avocado                 3044\n",
       "Spring Water                    2336\n",
       "Strawberries                    2308\n",
       "Organic Raspberries             2024\n",
       "Sparkling Water Grapefruit      1914\n",
       "Organic Half & Half             1797\n",
       "Large Lemon                     1737\n",
       "Soda                            1733\n",
       "Organic Reduced Fat Milk        1397\n",
       "Limes                           1370\n",
       "Hass Avocados                   1340\n",
       "Organic Reduced Fat 2% Milk     1310\n",
       "Half & Half                     1309\n",
       "Raspberries                     1246\n",
       "Name: product_name, dtype: int64"
      ]
     },
     "metadata": {},
     "output_type": "display_data"
    }
   ],
   "source": [
    "#Filtering dataframe to only include items that were added to the cart first\n",
    "first_items = order_data[order_data['add_to_cart_order'] == 1]\n",
    "#counting the number of times each product was added to the cart first\n",
    "item_counts = first_items['product_name'].value_counts()\n",
    "#getting the top 20 items\n",
    "top_20_first = item_counts.head(20)\n",
    "display(top_20_first)"
   ]
  },
  {
   "cell_type": "code",
   "execution_count": null,
   "id": "08e41ec2",
   "metadata": {},
   "outputs": [],
   "source": []
  },
  {
   "cell_type": "markdown",
   "id": "28ce9872",
   "metadata": {},
   "source": []
  },
  {
   "cell_type": "code",
   "execution_count": null,
   "id": "f4a2af09",
   "metadata": {},
   "outputs": [],
   "source": []
  }
 ],
 "metadata": {
  "ExecuteTimeLog": [
   {
    "duration": 425,
    "start_time": "2024-05-21T12:14:00.246Z"
   },
   {
    "duration": 7,
    "start_time": "2024-05-21T12:15:11.548Z"
   },
   {
    "duration": 331,
    "start_time": "2024-05-21T12:15:18.447Z"
   },
   {
    "duration": 453,
    "start_time": "2024-05-21T12:15:55.667Z"
   },
   {
    "duration": 86,
    "start_time": "2024-05-21T12:16:21.596Z"
   },
   {
    "duration": 3347,
    "start_time": "2024-05-21T12:16:33.268Z"
   },
   {
    "duration": 121,
    "start_time": "2024-05-21T12:16:54.327Z"
   },
   {
    "duration": 3290,
    "start_time": "2024-05-21T12:16:56.867Z"
   },
   {
    "duration": 14,
    "start_time": "2024-05-21T12:17:28.667Z"
   },
   {
    "duration": 8,
    "start_time": "2024-05-21T12:17:47.047Z"
   },
   {
    "duration": 399,
    "start_time": "2024-05-21T12:18:31.131Z"
   },
   {
    "duration": 443,
    "start_time": "2024-05-21T12:18:40.007Z"
   },
   {
    "duration": 54,
    "start_time": "2024-05-21T12:18:56.987Z"
   },
   {
    "duration": 3481,
    "start_time": "2024-05-21T12:19:15.547Z"
   },
   {
    "duration": 17,
    "start_time": "2024-05-21T12:19:54.727Z"
   },
   {
    "duration": 14,
    "start_time": "2024-05-21T12:20:05.408Z"
   },
   {
    "duration": 454,
    "start_time": "2024-05-21T12:26:51.509Z"
   },
   {
    "duration": 475,
    "start_time": "2024-05-21T12:27:03.319Z"
   },
   {
    "duration": 471,
    "start_time": "2024-05-21T12:27:19.147Z"
   },
   {
    "duration": 446,
    "start_time": "2024-05-21T12:28:19.928Z"
   },
   {
    "duration": 423,
    "start_time": "2024-05-21T12:44:34.767Z"
   },
   {
    "duration": 4,
    "start_time": "2024-05-21T12:44:47.047Z"
   },
   {
    "duration": 5,
    "start_time": "2024-05-21T12:46:36.547Z"
   },
   {
    "duration": 839,
    "start_time": "2024-05-21T12:47:58.977Z"
   },
   {
    "duration": 1060,
    "start_time": "2024-05-21T12:57:14.707Z"
   },
   {
    "duration": 1054,
    "start_time": "2024-05-21T12:57:17.927Z"
   },
   {
    "duration": 1119,
    "start_time": "2024-05-21T12:57:28.007Z"
   },
   {
    "duration": 1057,
    "start_time": "2024-05-21T12:58:15.088Z"
   },
   {
    "duration": 1067,
    "start_time": "2024-05-21T12:58:29.232Z"
   },
   {
    "duration": 17,
    "start_time": "2024-05-21T12:58:46.191Z"
   },
   {
    "duration": 16,
    "start_time": "2024-05-21T12:58:56.507Z"
   },
   {
    "duration": 15,
    "start_time": "2024-05-21T12:59:21.109Z"
   },
   {
    "duration": 314,
    "start_time": "2024-05-21T15:43:15.432Z"
   },
   {
    "duration": 445,
    "start_time": "2024-05-21T15:43:32.657Z"
   },
   {
    "duration": 476,
    "start_time": "2024-05-21T15:43:34.622Z"
   },
   {
    "duration": 270,
    "start_time": "2024-05-21T15:43:39.132Z"
   },
   {
    "duration": 866,
    "start_time": "2024-05-21T15:43:43.091Z"
   },
   {
    "duration": 24,
    "start_time": "2024-05-21T15:44:26.552Z"
   },
   {
    "duration": 75,
    "start_time": "2024-05-21T15:44:37.473Z"
   },
   {
    "duration": 80,
    "start_time": "2024-05-21T15:45:20.712Z"
   },
   {
    "duration": 32,
    "start_time": "2024-05-21T15:45:29.312Z"
   },
   {
    "duration": 22,
    "start_time": "2024-05-21T15:45:49.971Z"
   },
   {
    "duration": 75,
    "start_time": "2024-05-21T15:45:54.821Z"
   },
   {
    "duration": 21,
    "start_time": "2024-05-21T15:46:03.692Z"
   },
   {
    "duration": 271,
    "start_time": "2024-05-21T15:46:10.852Z"
   },
   {
    "duration": 269,
    "start_time": "2024-05-21T15:46:22.874Z"
   },
   {
    "duration": 268,
    "start_time": "2024-05-21T15:46:44.777Z"
   },
   {
    "duration": 2940,
    "start_time": "2024-05-21T15:47:10.051Z"
   },
   {
    "duration": 2195,
    "start_time": "2024-05-21T15:47:22.912Z"
   },
   {
    "duration": 220,
    "start_time": "2024-05-21T15:58:29.053Z"
   },
   {
    "duration": 92,
    "start_time": "2024-05-21T15:58:43.871Z"
   },
   {
    "duration": 1400,
    "start_time": "2024-05-21T15:58:54.812Z"
   },
   {
    "duration": 21,
    "start_time": "2024-05-21T15:59:17.871Z"
   },
   {
    "duration": 20,
    "start_time": "2024-05-21T15:59:26.312Z"
   },
   {
    "duration": 132,
    "start_time": "2024-05-21T16:00:32.138Z"
   },
   {
    "duration": 194,
    "start_time": "2024-05-21T16:34:48.552Z"
   },
   {
    "duration": 205,
    "start_time": "2024-05-21T16:35:01.414Z"
   },
   {
    "duration": 80,
    "start_time": "2024-05-21T16:35:22.933Z"
   },
   {
    "duration": 10,
    "start_time": "2024-05-21T16:35:41.991Z"
   },
   {
    "duration": 21,
    "start_time": "2024-05-21T16:35:55.792Z"
   },
   {
    "duration": 147,
    "start_time": "2024-05-21T16:37:25.612Z"
   },
   {
    "duration": 14,
    "start_time": "2024-05-21T16:38:03.351Z"
   },
   {
    "duration": 140,
    "start_time": "2024-05-21T16:39:16.531Z"
   },
   {
    "duration": 137,
    "start_time": "2024-05-21T16:39:25.551Z"
   },
   {
    "duration": 9,
    "start_time": "2024-05-21T16:44:22.892Z"
   },
   {
    "duration": 28,
    "start_time": "2024-05-21T16:44:30.113Z"
   },
   {
    "duration": 41,
    "start_time": "2024-05-21T16:48:51.111Z"
   },
   {
    "duration": 4,
    "start_time": "2024-05-21T16:49:58.552Z"
   },
   {
    "duration": 8,
    "start_time": "2024-05-21T16:50:09.032Z"
   },
   {
    "duration": 70,
    "start_time": "2024-05-21T16:51:19.271Z"
   },
   {
    "duration": 4,
    "start_time": "2024-05-21T16:51:35.271Z"
   },
   {
    "duration": 4,
    "start_time": "2024-05-21T16:51:48.871Z"
   },
   {
    "duration": 7,
    "start_time": "2024-05-21T16:51:59.257Z"
   },
   {
    "duration": 5,
    "start_time": "2024-05-21T16:58:08.017Z"
   },
   {
    "duration": 6,
    "start_time": "2024-05-21T16:58:24.672Z"
   },
   {
    "duration": 28,
    "start_time": "2024-05-21T16:59:20.419Z"
   },
   {
    "duration": 36,
    "start_time": "2024-05-21T17:00:09.096Z"
   },
   {
    "duration": 28,
    "start_time": "2024-05-21T17:00:31.731Z"
   },
   {
    "duration": 27,
    "start_time": "2024-05-21T17:00:39.808Z"
   },
   {
    "duration": 43,
    "start_time": "2024-05-21T17:03:49.112Z"
   },
   {
    "duration": 18,
    "start_time": "2024-05-21T17:04:49.252Z"
   },
   {
    "duration": 19,
    "start_time": "2024-05-21T17:05:05.552Z"
   },
   {
    "duration": 28,
    "start_time": "2024-05-21T17:05:27.772Z"
   },
   {
    "duration": 32,
    "start_time": "2024-05-21T17:05:39.315Z"
   },
   {
    "duration": 20,
    "start_time": "2024-05-21T17:05:55.432Z"
   },
   {
    "duration": 16,
    "start_time": "2024-05-21T17:07:03.232Z"
   },
   {
    "duration": 11,
    "start_time": "2024-05-21T17:07:19.436Z"
   },
   {
    "duration": 17,
    "start_time": "2024-05-21T17:07:46.732Z"
   },
   {
    "duration": 12,
    "start_time": "2024-05-21T17:07:55.814Z"
   },
   {
    "duration": 1278,
    "start_time": "2024-05-21T17:10:01.372Z"
   },
   {
    "duration": 1228,
    "start_time": "2024-05-21T17:10:14.413Z"
   },
   {
    "duration": 5761,
    "start_time": "2024-05-21T17:11:23.752Z"
   },
   {
    "duration": 20,
    "start_time": "2024-05-21T17:11:39.732Z"
   },
   {
    "duration": 5404,
    "start_time": "2024-05-21T17:11:56.932Z"
   },
   {
    "duration": 338,
    "start_time": "2024-05-21T17:12:40.292Z"
   },
   {
    "duration": 422,
    "start_time": "2024-05-22T13:21:30.166Z"
   },
   {
    "duration": 282,
    "start_time": "2024-05-22T13:21:36.366Z"
   },
   {
    "duration": 18,
    "start_time": "2024-05-22T13:22:27.086Z"
   },
   {
    "duration": 13,
    "start_time": "2024-05-22T13:22:30.646Z"
   },
   {
    "duration": 337,
    "start_time": "2024-05-22T13:22:35.686Z"
   },
   {
    "duration": 4,
    "start_time": "2024-05-22T13:22:50.726Z"
   },
   {
    "duration": 218,
    "start_time": "2024-05-22T13:22:51.491Z"
   },
   {
    "duration": 101,
    "start_time": "2024-05-22T13:22:54.291Z"
   },
   {
    "duration": 1427,
    "start_time": "2024-05-22T13:22:57.290Z"
   },
   {
    "duration": 1321,
    "start_time": "2024-05-22T13:23:07.806Z"
   },
   {
    "duration": 322,
    "start_time": "2024-05-22T13:23:12.132Z"
   },
   {
    "duration": 87,
    "start_time": "2024-05-22T13:23:48.107Z"
   },
   {
    "duration": 14,
    "start_time": "2024-05-22T14:48:17.920Z"
   },
   {
    "duration": 24,
    "start_time": "2024-05-22T14:48:26.426Z"
   },
   {
    "duration": 18,
    "start_time": "2024-05-22T14:48:29.646Z"
   },
   {
    "duration": 29,
    "start_time": "2024-05-22T14:48:41.387Z"
   },
   {
    "duration": 19,
    "start_time": "2024-05-22T14:48:48.826Z"
   },
   {
    "duration": 21,
    "start_time": "2024-05-22T14:49:09.647Z"
   },
   {
    "duration": 482,
    "start_time": "2024-05-22T14:49:57.927Z"
   },
   {
    "duration": 4,
    "start_time": "2024-05-22T14:51:14.746Z"
   },
   {
    "duration": 13,
    "start_time": "2024-05-22T14:56:18.946Z"
   },
   {
    "duration": 12,
    "start_time": "2024-05-22T15:08:43.206Z"
   },
   {
    "duration": 13,
    "start_time": "2024-05-22T15:08:57.593Z"
   },
   {
    "duration": 28,
    "start_time": "2024-05-22T15:24:42.037Z"
   },
   {
    "duration": 12,
    "start_time": "2024-05-22T15:24:53.766Z"
   },
   {
    "duration": 10,
    "start_time": "2024-05-22T15:27:19.609Z"
   },
   {
    "duration": 10,
    "start_time": "2024-05-22T15:27:42.546Z"
   },
   {
    "duration": 12,
    "start_time": "2024-05-22T15:27:45.967Z"
   },
   {
    "duration": 4,
    "start_time": "2024-05-22T15:28:19.546Z"
   },
   {
    "duration": 11,
    "start_time": "2024-05-22T15:28:31.307Z"
   },
   {
    "duration": 16,
    "start_time": "2024-05-22T15:32:48.529Z"
   },
   {
    "duration": 207,
    "start_time": "2024-05-22T15:33:21.547Z"
   },
   {
    "duration": 66,
    "start_time": "2024-05-22T16:00:51.412Z"
   },
   {
    "duration": 76,
    "start_time": "2024-05-22T16:01:05.467Z"
   },
   {
    "duration": 90,
    "start_time": "2024-05-22T16:22:23.067Z"
   },
   {
    "duration": 103,
    "start_time": "2024-05-22T16:22:31.866Z"
   },
   {
    "duration": 73,
    "start_time": "2024-05-22T16:22:39.626Z"
   },
   {
    "duration": 99,
    "start_time": "2024-05-22T16:26:54.989Z"
   },
   {
    "duration": 95,
    "start_time": "2024-05-22T16:27:04.026Z"
   },
   {
    "duration": 87,
    "start_time": "2024-05-22T16:29:24.826Z"
   },
   {
    "duration": 100,
    "start_time": "2024-05-22T16:29:39.526Z"
   },
   {
    "duration": 99,
    "start_time": "2024-05-22T16:29:48.307Z"
   },
   {
    "duration": 97,
    "start_time": "2024-05-22T16:30:50.409Z"
   },
   {
    "duration": 1253,
    "start_time": "2024-05-22T16:33:28.766Z"
   },
   {
    "duration": 46,
    "start_time": "2024-05-22T16:40:36.526Z"
   },
   {
    "duration": 87,
    "start_time": "2024-05-22T16:41:45.007Z"
   },
   {
    "duration": 101,
    "start_time": "2024-05-22T16:42:21.906Z"
   },
   {
    "duration": 108,
    "start_time": "2024-05-22T16:42:40.447Z"
   },
   {
    "duration": 87,
    "start_time": "2024-05-22T16:42:59.561Z"
   },
   {
    "duration": 88,
    "start_time": "2024-05-22T16:43:09.586Z"
   },
   {
    "duration": 1235,
    "start_time": "2024-05-22T17:02:28.987Z"
   },
   {
    "duration": 503,
    "start_time": "2024-05-22T17:05:31.147Z"
   },
   {
    "duration": 6,
    "start_time": "2024-05-22T17:06:10.617Z"
   },
   {
    "duration": 6,
    "start_time": "2024-05-22T17:06:13.908Z"
   },
   {
    "duration": 18,
    "start_time": "2024-05-22T17:07:17.727Z"
   },
   {
    "duration": 12,
    "start_time": "2024-05-22T17:07:27.967Z"
   },
   {
    "duration": 10,
    "start_time": "2024-05-22T17:07:38.689Z"
   },
   {
    "duration": 4,
    "start_time": "2024-05-22T17:49:33.867Z"
   },
   {
    "duration": 8,
    "start_time": "2024-05-22T17:51:40.031Z"
   },
   {
    "duration": 8,
    "start_time": "2024-05-22T17:51:49.914Z"
   },
   {
    "duration": 28,
    "start_time": "2024-05-22T18:04:11.747Z"
   },
   {
    "duration": 11,
    "start_time": "2024-05-22T18:04:39.647Z"
   },
   {
    "duration": 56,
    "start_time": "2024-05-22T18:06:02.468Z"
   },
   {
    "duration": 60,
    "start_time": "2024-05-22T18:06:14.227Z"
   },
   {
    "duration": 24,
    "start_time": "2024-05-22T18:21:53.067Z"
   },
   {
    "duration": 12,
    "start_time": "2024-05-22T18:21:57.047Z"
   },
   {
    "duration": 22,
    "start_time": "2024-05-22T18:22:06.527Z"
   },
   {
    "duration": 23,
    "start_time": "2024-05-22T18:22:18.372Z"
   },
   {
    "duration": 34,
    "start_time": "2024-05-22T18:22:38.849Z"
   },
   {
    "duration": 76,
    "start_time": "2024-05-22T18:23:27.307Z"
   },
   {
    "duration": 74,
    "start_time": "2024-05-22T18:24:56.413Z"
   },
   {
    "duration": 91,
    "start_time": "2024-05-22T18:25:52.550Z"
   },
   {
    "duration": 62,
    "start_time": "2024-05-22T18:26:07.207Z"
   },
   {
    "duration": 78,
    "start_time": "2024-05-22T18:26:26.487Z"
   },
   {
    "duration": 66,
    "start_time": "2024-05-22T18:26:39.487Z"
   },
   {
    "duration": 61,
    "start_time": "2024-05-22T18:26:49.907Z"
   },
   {
    "duration": 21,
    "start_time": "2024-05-22T18:29:11.470Z"
   },
   {
    "duration": 30,
    "start_time": "2024-05-22T18:29:18.787Z"
   },
   {
    "duration": 32,
    "start_time": "2024-05-22T18:29:42.447Z"
   },
   {
    "duration": 32,
    "start_time": "2024-05-22T18:33:53.087Z"
   },
   {
    "duration": 32,
    "start_time": "2024-05-22T18:34:06.068Z"
   },
   {
    "duration": 27,
    "start_time": "2024-05-22T18:40:33.127Z"
   },
   {
    "duration": 7,
    "start_time": "2024-05-22T18:42:37.467Z"
   },
   {
    "duration": 7,
    "start_time": "2024-05-22T18:43:15.290Z"
   },
   {
    "duration": 7,
    "start_time": "2024-05-22T18:43:59.527Z"
   },
   {
    "duration": 18,
    "start_time": "2024-05-22T18:45:13.707Z"
   },
   {
    "duration": 3,
    "start_time": "2024-05-22T18:55:12.687Z"
   },
   {
    "duration": 4,
    "start_time": "2024-05-22T18:55:51.252Z"
   },
   {
    "duration": 8,
    "start_time": "2024-05-22T18:56:06.976Z"
   },
   {
    "duration": 16,
    "start_time": "2024-05-22T18:56:24.548Z"
   },
   {
    "duration": 23,
    "start_time": "2024-05-22T18:57:53.752Z"
   },
   {
    "duration": 11,
    "start_time": "2024-05-22T18:58:17.449Z"
   },
   {
    "duration": 10,
    "start_time": "2024-05-22T18:58:48.447Z"
   },
   {
    "duration": 9,
    "start_time": "2024-05-22T19:00:25.130Z"
   },
   {
    "duration": 18,
    "start_time": "2024-05-22T19:01:11.528Z"
   },
   {
    "duration": 75,
    "start_time": "2024-05-22T19:01:51.327Z"
   },
   {
    "duration": 29,
    "start_time": "2024-05-22T19:02:02.527Z"
   },
   {
    "duration": 14,
    "start_time": "2024-05-22T19:02:07.530Z"
   },
   {
    "duration": 16,
    "start_time": "2024-05-22T19:02:14.947Z"
   },
   {
    "duration": 27,
    "start_time": "2024-05-22T19:02:55.347Z"
   },
   {
    "duration": 4536,
    "start_time": "2024-05-22T19:07:48.287Z"
   },
   {
    "duration": 12,
    "start_time": "2024-05-22T19:12:16.248Z"
   },
   {
    "duration": 235,
    "start_time": "2024-05-22T19:14:26.547Z"
   },
   {
    "duration": 218,
    "start_time": "2024-05-22T19:14:52.867Z"
   },
   {
    "duration": 220,
    "start_time": "2024-05-22T19:19:01.268Z"
   },
   {
    "duration": 713,
    "start_time": "2024-05-22T20:24:09.567Z"
   },
   {
    "duration": 10,
    "start_time": "2024-05-22T20:25:07.767Z"
   },
   {
    "duration": 217,
    "start_time": "2024-05-22T20:25:23.787Z"
   },
   {
    "duration": 1413,
    "start_time": "2024-05-22T20:30:43.871Z"
   },
   {
    "duration": 229,
    "start_time": "2024-05-22T20:31:05.389Z"
   },
   {
    "duration": 254,
    "start_time": "2024-05-22T20:31:30.489Z"
   },
   {
    "duration": 219,
    "start_time": "2024-05-22T20:34:52.768Z"
   },
   {
    "duration": 221,
    "start_time": "2024-05-22T20:35:17.508Z"
   },
   {
    "duration": 220,
    "start_time": "2024-05-22T20:35:43.867Z"
   },
   {
    "duration": 219,
    "start_time": "2024-05-22T20:35:51.167Z"
   },
   {
    "duration": 240,
    "start_time": "2024-05-22T20:37:06.607Z"
   },
   {
    "duration": 216,
    "start_time": "2024-05-22T20:37:43.250Z"
   },
   {
    "duration": 342,
    "start_time": "2024-05-22T20:38:32.007Z"
   },
   {
    "duration": 232,
    "start_time": "2024-05-22T20:55:35.235Z"
   },
   {
    "duration": 244,
    "start_time": "2024-05-22T20:56:18.208Z"
   },
   {
    "duration": 227,
    "start_time": "2024-05-22T20:56:50.187Z"
   },
   {
    "duration": 232,
    "start_time": "2024-05-22T20:57:20.879Z"
   },
   {
    "duration": 227,
    "start_time": "2024-05-22T20:57:33.067Z"
   },
   {
    "duration": 227,
    "start_time": "2024-05-22T20:57:40.747Z"
   },
   {
    "duration": 4,
    "start_time": "2024-05-22T20:57:54.582Z"
   },
   {
    "duration": 239,
    "start_time": "2024-05-22T20:57:56.267Z"
   },
   {
    "duration": 246,
    "start_time": "2024-05-22T20:58:07.407Z"
   },
   {
    "duration": 235,
    "start_time": "2024-05-22T20:58:32.647Z"
   },
   {
    "duration": 228,
    "start_time": "2024-05-22T20:58:36.288Z"
   },
   {
    "duration": 227,
    "start_time": "2024-05-22T20:58:48.887Z"
   },
   {
    "duration": 220,
    "start_time": "2024-05-22T20:59:16.907Z"
   },
   {
    "duration": 213,
    "start_time": "2024-05-22T20:59:28.969Z"
   },
   {
    "duration": 232,
    "start_time": "2024-05-22T21:00:05.767Z"
   },
   {
    "duration": 242,
    "start_time": "2024-05-22T21:00:37.514Z"
   },
   {
    "duration": 240,
    "start_time": "2024-05-22T21:01:03.487Z"
   },
   {
    "duration": 232,
    "start_time": "2024-05-22T21:01:09.227Z"
   },
   {
    "duration": 254,
    "start_time": "2024-05-22T21:01:27.587Z"
   },
   {
    "duration": 180,
    "start_time": "2024-05-22T21:02:50.587Z"
   },
   {
    "duration": 634,
    "start_time": "2024-05-22T21:03:00.647Z"
   },
   {
    "duration": 233,
    "start_time": "2024-05-22T21:03:22.168Z"
   },
   {
    "duration": 231,
    "start_time": "2024-05-22T21:03:26.628Z"
   },
   {
    "duration": 207,
    "start_time": "2024-05-22T21:03:29.847Z"
   },
   {
    "duration": 6,
    "start_time": "2024-05-22T21:03:40.368Z"
   },
   {
    "duration": 230,
    "start_time": "2024-05-22T21:03:55.087Z"
   },
   {
    "duration": 212,
    "start_time": "2024-05-22T21:04:07.048Z"
   },
   {
    "duration": 223,
    "start_time": "2024-05-22T21:04:20.388Z"
   },
   {
    "duration": 287,
    "start_time": "2024-05-22T21:04:30.247Z"
   },
   {
    "duration": 211,
    "start_time": "2024-05-22T21:04:35.607Z"
   },
   {
    "duration": 227,
    "start_time": "2024-05-22T21:04:39.507Z"
   },
   {
    "duration": 201,
    "start_time": "2024-05-22T21:06:53.647Z"
   },
   {
    "duration": 212,
    "start_time": "2024-05-22T21:07:34.067Z"
   },
   {
    "duration": 215,
    "start_time": "2024-05-22T21:07:55.228Z"
   },
   {
    "duration": 270,
    "start_time": "2024-05-22T21:08:36.228Z"
   },
   {
    "duration": 274,
    "start_time": "2024-05-22T21:08:49.506Z"
   },
   {
    "duration": 426,
    "start_time": "2024-05-22T21:09:03.807Z"
   },
   {
    "duration": 320,
    "start_time": "2024-05-22T21:09:49.155Z"
   },
   {
    "duration": 351,
    "start_time": "2024-05-22T21:10:04.587Z"
   },
   {
    "duration": 319,
    "start_time": "2024-05-22T21:10:09.587Z"
   },
   {
    "duration": 59,
    "start_time": "2024-05-22T21:14:28.827Z"
   },
   {
    "duration": 246,
    "start_time": "2024-05-22T21:14:42.342Z"
   },
   {
    "duration": 222,
    "start_time": "2024-05-22T21:14:55.487Z"
   },
   {
    "duration": 221,
    "start_time": "2024-05-22T21:15:06.747Z"
   },
   {
    "duration": 19,
    "start_time": "2024-05-22T22:04:17.408Z"
   },
   {
    "duration": 30,
    "start_time": "2024-05-22T22:07:02.267Z"
   },
   {
    "duration": 1541,
    "start_time": "2024-05-22T22:09:18.860Z"
   },
   {
    "duration": 1285,
    "start_time": "2024-05-22T22:09:43.726Z"
   },
   {
    "duration": 1342,
    "start_time": "2024-05-22T22:10:07.807Z"
   },
   {
    "duration": 3056,
    "start_time": "2024-05-22T22:14:45.363Z"
   },
   {
    "duration": 3141,
    "start_time": "2024-05-22T22:14:55.467Z"
   },
   {
    "duration": 1266,
    "start_time": "2024-05-22T22:17:41.567Z"
   },
   {
    "duration": 1658,
    "start_time": "2024-05-22T22:18:09.287Z"
   },
   {
    "duration": 2135,
    "start_time": "2024-05-22T22:22:20.907Z"
   },
   {
    "duration": 186,
    "start_time": "2024-05-22T22:26:51.287Z"
   },
   {
    "duration": 511,
    "start_time": "2024-05-22T22:27:07.427Z"
   },
   {
    "duration": 456,
    "start_time": "2024-05-22T22:27:13.388Z"
   },
   {
    "duration": 2544,
    "start_time": "2024-05-22T22:28:01.727Z"
   },
   {
    "duration": 1319,
    "start_time": "2024-05-22T22:28:34.767Z"
   },
   {
    "duration": 7,
    "start_time": "2024-05-22T22:32:17.428Z"
   },
   {
    "duration": 1844,
    "start_time": "2024-05-22T22:32:24.827Z"
   },
   {
    "duration": 1238,
    "start_time": "2024-05-22T22:32:49.870Z"
   },
   {
    "duration": 1810,
    "start_time": "2024-05-22T22:33:30.552Z"
   },
   {
    "duration": 8429,
    "start_time": "2024-05-22T22:36:04.947Z"
   },
   {
    "duration": 475,
    "start_time": "2024-05-23T16:37:21.927Z"
   },
   {
    "duration": 3917,
    "start_time": "2024-05-23T16:59:04.987Z"
   },
   {
    "duration": 349,
    "start_time": "2024-05-23T16:59:21.687Z"
   },
   {
    "duration": 3,
    "start_time": "2024-05-23T16:59:54.250Z"
   },
   {
    "duration": 1408,
    "start_time": "2024-05-23T16:59:54.258Z"
   },
   {
    "duration": 24,
    "start_time": "2024-05-23T16:59:55.670Z"
   },
   {
    "duration": 0,
    "start_time": "2024-05-23T16:59:55.700Z"
   },
   {
    "duration": 0,
    "start_time": "2024-05-23T16:59:55.701Z"
   },
   {
    "duration": 0,
    "start_time": "2024-05-23T16:59:55.703Z"
   },
   {
    "duration": 0,
    "start_time": "2024-05-23T16:59:55.705Z"
   },
   {
    "duration": 0,
    "start_time": "2024-05-23T16:59:55.708Z"
   },
   {
    "duration": 0,
    "start_time": "2024-05-23T16:59:55.735Z"
   },
   {
    "duration": 0,
    "start_time": "2024-05-23T16:59:55.738Z"
   },
   {
    "duration": 0,
    "start_time": "2024-05-23T16:59:55.741Z"
   },
   {
    "duration": 0,
    "start_time": "2024-05-23T16:59:55.744Z"
   },
   {
    "duration": 0,
    "start_time": "2024-05-23T16:59:55.747Z"
   },
   {
    "duration": 0,
    "start_time": "2024-05-23T16:59:55.749Z"
   },
   {
    "duration": 0,
    "start_time": "2024-05-23T16:59:55.752Z"
   },
   {
    "duration": 0,
    "start_time": "2024-05-23T16:59:55.755Z"
   },
   {
    "duration": 0,
    "start_time": "2024-05-23T16:59:55.757Z"
   },
   {
    "duration": 0,
    "start_time": "2024-05-23T16:59:55.759Z"
   },
   {
    "duration": 0,
    "start_time": "2024-05-23T16:59:55.762Z"
   },
   {
    "duration": 0,
    "start_time": "2024-05-23T16:59:55.764Z"
   },
   {
    "duration": 0,
    "start_time": "2024-05-23T16:59:55.767Z"
   },
   {
    "duration": 0,
    "start_time": "2024-05-23T16:59:55.769Z"
   },
   {
    "duration": 0,
    "start_time": "2024-05-23T16:59:55.772Z"
   },
   {
    "duration": 0,
    "start_time": "2024-05-23T16:59:55.834Z"
   },
   {
    "duration": 0,
    "start_time": "2024-05-23T16:59:55.836Z"
   },
   {
    "duration": 0,
    "start_time": "2024-05-23T16:59:55.838Z"
   },
   {
    "duration": 0,
    "start_time": "2024-05-23T16:59:55.842Z"
   },
   {
    "duration": 0,
    "start_time": "2024-05-23T16:59:55.844Z"
   },
   {
    "duration": 0,
    "start_time": "2024-05-23T16:59:55.847Z"
   },
   {
    "duration": 0,
    "start_time": "2024-05-23T16:59:55.850Z"
   },
   {
    "duration": 0,
    "start_time": "2024-05-23T16:59:55.852Z"
   },
   {
    "duration": 0,
    "start_time": "2024-05-23T16:59:55.854Z"
   },
   {
    "duration": 0,
    "start_time": "2024-05-23T16:59:55.856Z"
   },
   {
    "duration": 0,
    "start_time": "2024-05-23T16:59:55.859Z"
   },
   {
    "duration": 0,
    "start_time": "2024-05-23T16:59:55.861Z"
   },
   {
    "duration": 0,
    "start_time": "2024-05-23T16:59:55.862Z"
   },
   {
    "duration": 0,
    "start_time": "2024-05-23T16:59:55.865Z"
   },
   {
    "duration": 0,
    "start_time": "2024-05-23T16:59:55.868Z"
   },
   {
    "duration": 0,
    "start_time": "2024-05-23T16:59:55.870Z"
   },
   {
    "duration": 0,
    "start_time": "2024-05-23T16:59:55.873Z"
   },
   {
    "duration": 0,
    "start_time": "2024-05-23T16:59:55.875Z"
   },
   {
    "duration": 0,
    "start_time": "2024-05-23T16:59:55.935Z"
   },
   {
    "duration": 0,
    "start_time": "2024-05-23T16:59:55.937Z"
   },
   {
    "duration": 0,
    "start_time": "2024-05-23T16:59:55.938Z"
   },
   {
    "duration": 25,
    "start_time": "2024-05-23T17:00:09.748Z"
   },
   {
    "duration": 29,
    "start_time": "2024-05-23T17:00:21.287Z"
   },
   {
    "duration": 25,
    "start_time": "2024-05-23T17:00:21.547Z"
   },
   {
    "duration": 16,
    "start_time": "2024-05-23T17:01:04.207Z"
   },
   {
    "duration": 8,
    "start_time": "2024-05-23T17:01:06.767Z"
   },
   {
    "duration": 825,
    "start_time": "2024-05-23T17:01:13.747Z"
   },
   {
    "duration": 20,
    "start_time": "2024-05-23T17:06:45.507Z"
   },
   {
    "duration": 3,
    "start_time": "2024-05-23T17:07:36.928Z"
   },
   {
    "duration": 1307,
    "start_time": "2024-05-23T17:07:39.427Z"
   },
   {
    "duration": 21,
    "start_time": "2024-05-23T17:07:46.491Z"
   },
   {
    "duration": 411,
    "start_time": "2024-05-23T17:11:27.547Z"
   },
   {
    "duration": 205,
    "start_time": "2024-05-23T17:11:33.372Z"
   },
   {
    "duration": 188,
    "start_time": "2024-05-23T17:11:39.467Z"
   },
   {
    "duration": 154,
    "start_time": "2024-05-23T17:12:14.427Z"
   },
   {
    "duration": 25,
    "start_time": "2024-05-23T17:13:18.407Z"
   },
   {
    "duration": 177,
    "start_time": "2024-05-23T17:13:25.589Z"
   },
   {
    "duration": 151,
    "start_time": "2024-05-23T17:13:28.386Z"
   },
   {
    "duration": 45,
    "start_time": "2024-05-23T17:13:34.627Z"
   },
   {
    "duration": 97,
    "start_time": "2024-05-23T17:13:59.427Z"
   },
   {
    "duration": 84,
    "start_time": "2024-05-23T17:14:48.133Z"
   },
   {
    "duration": 66,
    "start_time": "2024-05-23T17:14:56.596Z"
   },
   {
    "duration": 23,
    "start_time": "2024-05-23T17:15:03.777Z"
   },
   {
    "duration": 6,
    "start_time": "2024-05-23T17:15:08.887Z"
   },
   {
    "duration": 30,
    "start_time": "2024-05-23T17:15:11.314Z"
   },
   {
    "duration": 20,
    "start_time": "2024-05-23T17:15:14.467Z"
   },
   {
    "duration": 17,
    "start_time": "2024-05-23T17:15:29.531Z"
   },
   {
    "duration": 9,
    "start_time": "2024-05-23T17:16:23.087Z"
   },
   {
    "duration": 17,
    "start_time": "2024-05-23T17:16:30.848Z"
   },
   {
    "duration": 13,
    "start_time": "2024-05-23T17:16:32.109Z"
   },
   {
    "duration": 1298,
    "start_time": "2024-05-23T17:16:38.068Z"
   },
   {
    "duration": 330,
    "start_time": "2024-05-23T17:16:42.533Z"
   },
   {
    "duration": 76,
    "start_time": "2024-05-23T17:16:58.787Z"
   },
   {
    "duration": 10,
    "start_time": "2024-05-23T17:18:48.627Z"
   },
   {
    "duration": 5,
    "start_time": "2024-05-23T17:18:54.267Z"
   },
   {
    "duration": 18,
    "start_time": "2024-05-23T17:19:22.209Z"
   },
   {
    "duration": 681,
    "start_time": "2024-05-23T17:19:36.007Z"
   },
   {
    "duration": 24,
    "start_time": "2024-05-23T17:21:09.659Z"
   },
   {
    "duration": 356,
    "start_time": "2024-05-23T17:21:16.407Z"
   },
   {
    "duration": 8461,
    "start_time": "2024-05-23T17:21:30.609Z"
   },
   {
    "duration": 8270,
    "start_time": "2024-05-23T17:22:16.069Z"
   },
   {
    "duration": 8489,
    "start_time": "2024-05-23T17:22:33.430Z"
   },
   {
    "duration": 8512,
    "start_time": "2024-05-23T17:22:46.708Z"
   },
   {
    "duration": 26,
    "start_time": "2024-05-23T17:27:59.588Z"
   },
   {
    "duration": 1009,
    "start_time": "2024-05-23T17:50:42.948Z"
   },
   {
    "duration": 835,
    "start_time": "2024-05-23T17:55:50.127Z"
   },
   {
    "duration": 1049,
    "start_time": "2024-05-23T17:56:11.089Z"
   },
   {
    "duration": 17,
    "start_time": "2024-05-23T18:22:32.407Z"
   },
   {
    "duration": 22,
    "start_time": "2024-05-23T18:27:19.110Z"
   },
   {
    "duration": 347,
    "start_time": "2024-05-23T18:28:03.326Z"
   },
   {
    "duration": 9,
    "start_time": "2024-05-23T18:31:35.148Z"
   },
   {
    "duration": 220,
    "start_time": "2024-05-23T18:49:36.436Z"
   },
   {
    "duration": 1219,
    "start_time": "2024-05-23T18:49:47.996Z"
   },
   {
    "duration": 26,
    "start_time": "2024-05-23T18:50:27.987Z"
   },
   {
    "duration": 39,
    "start_time": "2024-05-23T18:50:55.932Z"
   },
   {
    "duration": 31,
    "start_time": "2024-05-23T18:51:10.852Z"
   },
   {
    "duration": 4837,
    "start_time": "2024-05-23T18:55:43.387Z"
   },
   {
    "duration": 5517,
    "start_time": "2024-05-23T18:57:12.352Z"
   },
   {
    "duration": 5600,
    "start_time": "2024-05-23T18:58:29.487Z"
   },
   {
    "duration": 16,
    "start_time": "2024-05-23T19:00:47.632Z"
   },
   {
    "duration": 30,
    "start_time": "2024-05-23T19:02:03.013Z"
   },
   {
    "duration": 115,
    "start_time": "2024-05-23T19:03:43.887Z"
   },
   {
    "duration": 134,
    "start_time": "2024-05-23T19:04:25.147Z"
   },
   {
    "duration": 151,
    "start_time": "2024-05-23T19:04:38.247Z"
   },
   {
    "duration": 130,
    "start_time": "2024-05-23T19:04:49.906Z"
   }
  ],
  "kernelspec": {
   "display_name": "Python 3 (ipykernel)",
   "language": "python",
   "name": "python3"
  },
  "language_info": {
   "codemirror_mode": {
    "name": "ipython",
    "version": 3
   },
   "file_extension": ".py",
   "mimetype": "text/x-python",
   "name": "python",
   "nbconvert_exporter": "python",
   "pygments_lexer": "ipython3",
   "version": "3.9.19"
  },
  "toc": {
   "base_numbering": 1,
   "nav_menu": {},
   "number_sections": true,
   "sideBar": true,
   "skip_h1_title": true,
   "title_cell": "Table of Contents",
   "title_sidebar": "Contents",
   "toc_cell": false,
   "toc_position": {},
   "toc_section_display": true,
   "toc_window_display": false
  },
  "vscode": {
   "interpreter": {
    "hash": "01a7be9ec63e704a62cefc5fe7a4756944464ee731be31632bdf42a4cb4688cf"
   }
  }
 },
 "nbformat": 4,
 "nbformat_minor": 5
}
